{
 "cells": [
  {
   "cell_type": "markdown",
   "metadata": {
    "collapsed": true,
    "deletable": true,
    "editable": true
   },
   "source": [
    "# 语言翻译\n",
    "\n",
    "在此项目中，你将了解神经网络机器翻译这一领域。你将用由英语和法语语句组成的数据集，训练一个序列到序列模型（sequence to sequence model），该模型能够将新的英语句子翻译成法语。\n",
    "\n",
    "## 获取数据\n",
    "\n",
    "因为将整个英语语言内容翻译成法语需要大量训练时间，所以我们提供了一小部分的英语语料库。\n"
   ]
  },
  {
   "cell_type": "code",
   "execution_count": 1,
   "metadata": {
    "collapsed": false,
    "deletable": true,
    "editable": true
   },
   "outputs": [],
   "source": [
    "\"\"\"\n",
    "DON'T MODIFY ANYTHING IN THIS CELL\n",
    "\"\"\"\n",
    "import helper\n",
    "import problem_unittests as tests\n",
    "\n",
    "source_path = 'data/small_vocab_en'\n",
    "target_path = 'data/small_vocab_fr'\n",
    "source_text = helper.load_data(source_path)\n",
    "target_text = helper.load_data(target_path)"
   ]
  },
  {
   "cell_type": "markdown",
   "metadata": {
    "deletable": true,
    "editable": true
   },
   "source": [
    "## 探索数据\n",
    "\n",
    "研究 view_sentence_range，查看并熟悉该数据的不同部分。\n"
   ]
  },
  {
   "cell_type": "code",
   "execution_count": 2,
   "metadata": {
    "collapsed": false,
    "deletable": true,
    "editable": true
   },
   "outputs": [
    {
     "name": "stdout",
     "output_type": "stream",
     "text": [
      "Dataset Stats\n",
      "Roughly the number of unique words: 227\n",
      "Number of sentences: 137861\n",
      "Average number of words in a sentence: 13.225277634719028\n",
      "\n",
      "English sentences 0 to 10:\n",
      "new jersey is sometimes quiet during autumn , and it is snowy in april .\n",
      "the united states is usually chilly during july , and it is usually freezing in november .\n",
      "california is usually quiet during march , and it is usually hot in june .\n",
      "the united states is sometimes mild during june , and it is cold in september .\n",
      "your least liked fruit is the grape , but my least liked is the apple .\n",
      "his favorite fruit is the orange , but my favorite is the grape .\n",
      "paris is relaxing during december , but it is usually chilly in july .\n",
      "new jersey is busy during spring , and it is never hot in march .\n",
      "our least liked fruit is the lemon , but my least liked is the grape .\n",
      "the united states is sometimes busy during january , and it is sometimes warm in november .\n",
      "\n",
      "French sentences 0 to 10:\n",
      "new jersey est parfois calme pendant l' automne , et il est neigeux en avril .\n",
      "les états-unis est généralement froid en juillet , et il gèle habituellement en novembre .\n",
      "california est généralement calme en mars , et il est généralement chaud en juin .\n",
      "les états-unis est parfois légère en juin , et il fait froid en septembre .\n",
      "votre moins aimé fruit est le raisin , mais mon moins aimé est la pomme .\n",
      "son fruit préféré est l'orange , mais mon préféré est le raisin .\n",
      "paris est relaxant en décembre , mais il est généralement froid en juillet .\n",
      "new jersey est occupé au printemps , et il est jamais chaude en mars .\n",
      "notre fruit est moins aimé le citron , mais mon moins aimé est le raisin .\n",
      "les états-unis est parfois occupé en janvier , et il est parfois chaud en novembre .\n"
     ]
    }
   ],
   "source": [
    "view_sentence_range = (0, 10)\n",
    "\n",
    "\"\"\"\n",
    "DON'T MODIFY ANYTHING IN THIS CELL\n",
    "\"\"\"\n",
    "import numpy as np\n",
    "\n",
    "print('Dataset Stats')\n",
    "print('Roughly the number of unique words: {}'.format(len({word: None for word in source_text.split()})))\n",
    "\n",
    "sentences = source_text.split('\\n')\n",
    "word_counts = [len(sentence.split()) for sentence in sentences]\n",
    "print('Number of sentences: {}'.format(len(sentences)))\n",
    "print('Average number of words in a sentence: {}'.format(np.average(word_counts)))\n",
    "\n",
    "print()\n",
    "print('English sentences {} to {}:'.format(*view_sentence_range))\n",
    "print('\\n'.join(source_text.split('\\n')[view_sentence_range[0]:view_sentence_range[1]]))\n",
    "print()\n",
    "print('French sentences {} to {}:'.format(*view_sentence_range))\n",
    "print('\\n'.join(target_text.split('\\n')[view_sentence_range[0]:view_sentence_range[1]]))"
   ]
  },
  {
   "cell_type": "markdown",
   "metadata": {
    "deletable": true,
    "editable": true
   },
   "source": [
    "## 实现预处理函数\n",
    "\n",
    "### 文本到单词 id\n",
    "\n",
    "和之前的 RNN 一样，你必须首先将文本转换为数字，这样计算机才能读懂。在函数 `text_to_ids()` 中，你需要将单词中的 `source_text` 和 `target_text` 转为 id。但是，你需要在 `target_text` 中每个句子的末尾，添加 `<EOS>` 单词 id。这样可以帮助神经网络预测句子应该在什么地方结束。\n",
    "\n",
    "\n",
    "你可以通过以下代码获取  `<EOS> ` 单词ID：\n",
    "\n",
    "```python\n",
    "target_vocab_to_int['<EOS>']\n",
    "```\n",
    "\n",
    "你可以使用 `source_vocab_to_int` 和 `target_vocab_to_int` 获得其他单词 id。\n"
   ]
  },
  {
   "cell_type": "code",
   "execution_count": 12,
   "metadata": {
    "collapsed": false,
    "deletable": true,
    "editable": true
   },
   "outputs": [
    {
     "name": "stdout",
     "output_type": "stream",
     "text": [
      "Tests Passed\n"
     ]
    }
   ],
   "source": [
    "def text_to_ids(source_text, target_text, source_vocab_to_int, target_vocab_to_int):\n",
    "    \"\"\"\n",
    "    Convert source and target text to proper word ids\n",
    "    :param source_text: String that contains all the source text.\n",
    "    :param target_text: String that contains all the target text.\n",
    "    :param source_vocab_to_int: Dictionary to go from the source words to an id\n",
    "    :param target_vocab_to_int: Dictionary to go from the target words to an id\n",
    "    :return: A tuple of lists (source_id_text, target_id_text)\n",
    "    \"\"\"\n",
    "    # TODO: Implement Function\n",
    "    source_texts = source_text.split(\"\\n\")\n",
    "    target_texts = target_text.split(\"\\n\")\n",
    "    source_id_text = []\n",
    "    target_id_text = []\n",
    "    for s in source_texts:\n",
    "        word=list(filter(None,s.split(' ')))\n",
    "        l= [source_vocab_to_int[x] for x in word]\n",
    "        source_id_text.append(l)\n",
    "    for s in target_texts:\n",
    "        word=list(filter(None,s.split(' ')))\n",
    "        l= [target_vocab_to_int[x] for x in word]\n",
    "        l=l+[target_vocab_to_int['<EOS>']]\n",
    "        target_id_text.append(l)    \n",
    "    \n",
    "    return source_id_text, target_id_text\n",
    "\"\"\"\n",
    "DON'T MODIFY ANYTHING IN THIS CELL THAT IS BELOW THIS LINE\n",
    "\"\"\"\n",
    "tests.test_text_to_ids(text_to_ids)"
   ]
  },
  {
   "cell_type": "markdown",
   "metadata": {
    "deletable": true,
    "editable": true
   },
   "source": [
    "### 预处理所有数据并保存\n",
    "\n",
    "运行以下代码单元，预处理所有数据，并保存到文件中。\n"
   ]
  },
  {
   "cell_type": "code",
   "execution_count": 13,
   "metadata": {
    "collapsed": false,
    "deletable": true,
    "editable": true
   },
   "outputs": [],
   "source": [
    "\"\"\"\n",
    "DON'T MODIFY ANYTHING IN THIS CELL\n",
    "\"\"\"\n",
    "helper.preprocess_and_save_data(source_path, target_path, text_to_ids)"
   ]
  },
  {
   "cell_type": "markdown",
   "metadata": {
    "deletable": true,
    "editable": true
   },
   "source": [
    "# 检查点\n",
    "\n",
    "这是你的第一个检查点。如果你什么时候决定再回到该记事本，或需要重新启动该记事本，可以从这里继续。预处理的数据已保存到磁盘上。"
   ]
  },
  {
   "cell_type": "code",
   "execution_count": 14,
   "metadata": {
    "collapsed": false,
    "deletable": true,
    "editable": true
   },
   "outputs": [],
   "source": [
    "\"\"\"\n",
    "DON'T MODIFY ANYTHING IN THIS CELL\n",
    "\"\"\"\n",
    "import numpy as np\n",
    "import helper\n",
    "\n",
    "(source_int_text, target_int_text), (source_vocab_to_int, target_vocab_to_int), _ = helper.load_preprocess()"
   ]
  },
  {
   "cell_type": "markdown",
   "metadata": {
    "deletable": true,
    "editable": true
   },
   "source": [
    "### 检查 TensorFlow 版本，确认可访问 GPU\n",
    "\n",
    "这一检查步骤，可以确保你使用的是正确版本的 TensorFlow，并且能够访问 GPU。\n"
   ]
  },
  {
   "cell_type": "code",
   "execution_count": 15,
   "metadata": {
    "collapsed": false,
    "deletable": true,
    "editable": true
   },
   "outputs": [
    {
     "name": "stdout",
     "output_type": "stream",
     "text": [
      "TensorFlow Version: 1.0.0\n",
      "Default GPU Device: /gpu:0\n"
     ]
    }
   ],
   "source": [
    "\"\"\"\n",
    "DON'T MODIFY ANYTHING IN THIS CELL\n",
    "\"\"\"\n",
    "from distutils.version import LooseVersion\n",
    "import warnings\n",
    "import tensorflow as tf\n",
    "\n",
    "# Check TensorFlow Version\n",
    "assert LooseVersion(tf.__version__) in [LooseVersion('1.0.0'), LooseVersion('1.0.1')], 'This project requires TensorFlow version 1.0  You are using {}'.format(tf.__version__)\n",
    "print('TensorFlow Version: {}'.format(tf.__version__))\n",
    "\n",
    "# Check for a GPU\n",
    "if not tf.test.gpu_device_name():\n",
    "    warnings.warn('No GPU found. Please use a GPU to train your neural network.')\n",
    "else:\n",
    "    print('Default GPU Device: {}'.format(tf.test.gpu_device_name()))"
   ]
  },
  {
   "cell_type": "markdown",
   "metadata": {
    "deletable": true,
    "editable": true
   },
   "source": [
    "## 构建神经网络\n",
    "\n",
    "你将通过实现以下函数，构建出要构建一个序列到序列模型所需的组件：\n",
    "\n",
    "- `model_inputs`\n",
    "- `process_decoding_input`\n",
    "- `encoding_layer`\n",
    "- `decoding_layer_train`\n",
    "- `decoding_layer_infer`\n",
    "- `decoding_layer`\n",
    "- `seq2seq_model`\n",
    "\n",
    "### 输入\n",
    "\n",
    "实现 `model_inputs()` 函数，为神经网络创建 TF 占位符。该函数应该创建以下占位符：\n",
    "\n",
    "- 名为 “input” 的输入文本占位符，并使用 TF Placeholder 名称参数（等级（Rank）为 2）。\n",
    "- 目标占位符（等级为 2）。\n",
    "- 学习速率占位符（等级为 0）。\n",
    "- 名为 “keep_prob” 的保留率占位符，并使用 TF Placeholder 名称参数（等级为 0）。\n",
    "\n",
    "在以下元祖（tuple）中返回占位符：（输入、目标、学习速率、保留率）\n"
   ]
  },
  {
   "cell_type": "code",
   "execution_count": 16,
   "metadata": {
    "collapsed": false,
    "deletable": true,
    "editable": true
   },
   "outputs": [
    {
     "name": "stdout",
     "output_type": "stream",
     "text": [
      "Tests Passed\n"
     ]
    }
   ],
   "source": [
    "def model_inputs():\n",
    "    \"\"\"\n",
    "    Create TF Placeholders for input, targets, and learning rate.\n",
    "    :return: Tuple (input, targets, learning rate, keep probability)\n",
    "    \"\"\"\n",
    "    # TODO: Implement Function\n",
    "    text_int_input = tf.placeholder(tf.int32, shape=(None,None), name=\"input\")\n",
    "    text_int_target = tf.placeholder(tf.int32, shape=(None,None), name=\"output\")\n",
    "    learning_rate = tf.placeholder(tf.float32, shape=None)\n",
    "    keep_prob = tf.placeholder(tf.float32, shape=None, name=\"keep_prob\")\n",
    "    return text_int_input, text_int_target, learning_rate, keep_prob\n",
    "\n",
    "\"\"\"\n",
    "DON'T MODIFY ANYTHING IN THIS CELL THAT IS BELOW THIS LINE\n",
    "\"\"\"\n",
    "tests.test_model_inputs(model_inputs)"
   ]
  },
  {
   "cell_type": "markdown",
   "metadata": {
    "deletable": true,
    "editable": true
   },
   "source": [
    "### 处理解码输入\n",
    "\n",
    "使用 TensorFlow 实现 `process_decoding_input`，以便删掉 `target_data` 中每个批次的最后一个单词 ID，并将 GO ID 放到每个批次的开头。"
   ]
  },
  {
   "cell_type": "code",
   "execution_count": 17,
   "metadata": {
    "collapsed": false,
    "deletable": true,
    "editable": true
   },
   "outputs": [
    {
     "name": "stdout",
     "output_type": "stream",
     "text": [
      "Tests Passed\n"
     ]
    }
   ],
   "source": [
    "def process_decoding_input(target_data, target_vocab_to_int, batch_size):\n",
    "    \"\"\"\n",
    "    Preprocess target data for dencoding\n",
    "    :param target_data: Target Placehoder\n",
    "    :param target_vocab_to_int: Dictionary to go from the target words to an id\n",
    "    :param batch_size: Batch Size\n",
    "    :return: Preprocessed target data\n",
    "    \"\"\"\n",
    "    # TODO: Implement Function\n",
    "    ending = tf.strided_slice(target_data, [0, 0], [batch_size, -1], [1, 1])\n",
    "    target_data = tf.concat([tf.fill([batch_size, 1], target_vocab_to_int['<GO>']), ending], 1)\n",
    "    return target_data\n",
    "\n",
    "\"\"\"\n",
    "DON'T MODIFY ANYTHING IN THIS CELL THAT IS BELOW THIS LINE\n",
    "\"\"\"\n",
    "tests.test_process_decoding_input(process_decoding_input)"
   ]
  },
  {
   "cell_type": "markdown",
   "metadata": {
    "deletable": true,
    "editable": true
   },
   "source": [
    "### 编码\n",
    "\n",
    "实现 `encoding_layer()`，以使用 [`tf.nn.dynamic_rnn()`](https://www.tensorflow.org/api_docs/python/tf/nn/dynamic_rnn) 创建编码器 RNN 层级。"
   ]
  },
  {
   "cell_type": "code",
   "execution_count": 18,
   "metadata": {
    "collapsed": false,
    "deletable": true,
    "editable": true
   },
   "outputs": [
    {
     "name": "stdout",
     "output_type": "stream",
     "text": [
      "Tests Passed\n"
     ]
    }
   ],
   "source": [
    "def encoding_layer(rnn_inputs, rnn_size, num_layers, keep_prob):\n",
    "    \"\"\"\n",
    "    Create encoding layer\n",
    "    :param rnn_inputs: Inputs for the RNN\n",
    "    :param rnn_size: RNN Size\n",
    "    :param num_layers: Number of layers\n",
    "    :param keep_prob: Dropout keep probability\n",
    "    :return: RNN state\n",
    "    \"\"\"\n",
    "    # TODO: Implement Function\n",
    "    enc_cell = tf.contrib.rnn.MultiRNNCell([tf.contrib.rnn.BasicLSTMCell(rnn_size)] * num_layers)\n",
    "    enc_cell = tf.contrib.rnn.DropoutWrapper(enc_cell, output_keep_prob=keep_prob)\n",
    "    rnn, state = tf.nn.dynamic_rnn(enc_cell, rnn_inputs, dtype=tf.float32)\n",
    "    return state\n",
    "\n",
    "\"\"\"\n",
    "DON'T MODIFY ANYTHING IN THIS CELL THAT IS BELOW THIS LINE\n",
    "\"\"\"\n",
    "tests.test_encoding_layer(encoding_layer)"
   ]
  },
  {
   "cell_type": "markdown",
   "metadata": {
    "deletable": true,
    "editable": true
   },
   "source": [
    "### 解码 - 训练\n",
    "\n",
    "使用 [`tf.contrib.seq2seq.simple_decoder_fn_train()`](https://www.tensorflow.org/versions/r1.0/api_docs/python/tf/contrib/seq2seq/simple_decoder_fn_train) 和 [`tf.contrib.seq2seq.dynamic_rnn_decoder()`](https://www.tensorflow.org/versions/r1.0/api_docs/python/tf/contrib/seq2seq/dynamic_rnn_decoder) 创建训练分对数（training logits）。将 `output_fn` 应用到 [`tf.contrib.seq2seq.dynamic_rnn_decoder()`](https://www.tensorflow.org/versions/r1.0/api_docs/python/tf/contrib/seq2seq/dynamic_rnn_decoder) 输出上。"
   ]
  },
  {
   "cell_type": "code",
   "execution_count": 19,
   "metadata": {
    "collapsed": false,
    "deletable": true,
    "editable": true
   },
   "outputs": [
    {
     "name": "stdout",
     "output_type": "stream",
     "text": [
      "Tests Passed\n"
     ]
    }
   ],
   "source": [
    "def decoding_layer_train(encoder_state, dec_cell, dec_embed_input, sequence_length, decoding_scope,\n",
    "                         output_fn, keep_prob):\n",
    "    \"\"\"\n",
    "    Create a decoding layer for training\n",
    "    :param encoder_state: Encoder State\n",
    "    :param dec_cell: Decoder RNN Cell\n",
    "    :param dec_embed_input: Decoder embedded input\n",
    "    :param sequence_length: Sequence Length\n",
    "    :param decoding_scope: TenorFlow Variable Scope for decoding\n",
    "    :param output_fn: Function to apply the output layer\n",
    "    :param keep_prob: Dropout keep probability\n",
    "    :return: Train Logits\n",
    "    \"\"\"\n",
    "    # TODO: Implement Function\n",
    "    train_decoder_fn = tf.contrib.seq2seq.simple_decoder_fn_train(encoder_state)\n",
    "    train_pred, _, _ = tf.contrib.seq2seq.dynamic_rnn_decoder(\n",
    "        dec_cell, train_decoder_fn, dec_embed_input, sequence_length, scope=decoding_scope)\n",
    "    \n",
    "    train_logits = output_fn(train_pred)\n",
    "    train_logits = tf.nn.dropout(train_logits, keep_prob)\n",
    "    return train_logits\n",
    "\n",
    "\n",
    "\n",
    "\"\"\"\n",
    "DON'T MODIFY ANYTHING IN THIS CELL THAT IS BELOW THIS LINE\n",
    "\"\"\"\n",
    "tests.test_decoding_layer_train(decoding_layer_train)"
   ]
  },
  {
   "cell_type": "markdown",
   "metadata": {
    "deletable": true,
    "editable": true
   },
   "source": [
    "### 解码 - 推论\n",
    "\n",
    "使用 [`tf.contrib.seq2seq.simple_decoder_fn_inference()`](https://www.tensorflow.org/versions/r1.0/api_docs/python/tf/contrib/seq2seq/simple_decoder_fn_inference) 和 [`tf.contrib.seq2seq.dynamic_rnn_decoder()`](https://www.tensorflow.org/versions/r1.0/api_docs/python/tf/contrib/seq2seq/dynamic_rnn_decoder) 创建推论分对数（inference logits）。"
   ]
  },
  {
   "cell_type": "code",
   "execution_count": 20,
   "metadata": {
    "collapsed": false,
    "deletable": true,
    "editable": true
   },
   "outputs": [
    {
     "name": "stdout",
     "output_type": "stream",
     "text": [
      "Tests Passed\n"
     ]
    }
   ],
   "source": [
    "def decoding_layer_infer(encoder_state, dec_cell, dec_embeddings, start_of_sequence_id, end_of_sequence_id,\n",
    "                         maximum_length, vocab_size, decoding_scope, output_fn, keep_prob):\n",
    "    \"\"\"\n",
    "    Create a decoding layer for inference\n",
    "    :param encoder_state: Encoder state\n",
    "    :param dec_cell: Decoder RNN Cell\n",
    "    :param dec_embeddings: Decoder embeddings\n",
    "    :param start_of_sequence_id: GO ID\n",
    "    :param end_of_sequence_id: EOS Id\n",
    "    :param maximum_length: The maximum allowed time steps to decode\n",
    "    :param vocab_size: Size of vocabulary\n",
    "    :param decoding_scope: TensorFlow Variable Scope for decoding\n",
    "    :param output_fn: Function to apply the output layer\n",
    "    :param keep_prob: Dropout keep probability\n",
    "    :return: Inference Logits\n",
    "    \"\"\"\n",
    "    # TODO: Implement Function\n",
    "    infer_decoder_fn = tf.contrib.seq2seq.simple_decoder_fn_inference(\n",
    "        output_fn, encoder_state, dec_embeddings, start_of_sequence_id, end_of_sequence_id, \n",
    "        maximum_length, vocab_size)\n",
    "    inference_logits, _, _ = tf.contrib.seq2seq.dynamic_rnn_decoder(dec_cell, infer_decoder_fn, scope=decoding_scope)\n",
    "    inference_logits = tf.nn.dropout(inference_logits, keep_prob)\n",
    "    return inference_logits\n",
    "\n",
    "\n",
    "\"\"\"\n",
    "DON'T MODIFY ANYTHING IN THIS CELL THAT IS BELOW THIS LINE\n",
    "\"\"\"\n",
    "tests.test_decoding_layer_infer(decoding_layer_infer)"
   ]
  },
  {
   "cell_type": "markdown",
   "metadata": {
    "deletable": true,
    "editable": true
   },
   "source": [
    "### 构建解码层级\n",
    "\n",
    "实现 `decoding_layer()` 以创建解码器 RNN 层级。\n",
    "\n",
    "- 使用 `rnn_size` 和 `num_layers` 创建解码 RNN 单元。\n",
    "- 使用 [`lambda`](https://docs.python.org/3/tutorial/controlflow.html#lambda-expressions) 创建输出函数，将输入，也就是分对数转换为类分对数（class logits）。\n",
    "- 使用 `decoding_layer_train(encoder_state, dec_cell, dec_embed_input, sequence_length, decoding_scope, output_fn, keep_prob)` 函数获取训练分对数。\n",
    "- 使用 `decoding_layer_infer(encoder_state, dec_cell, dec_embeddings, start_of_sequence_id, end_of_sequence_id, maximum_length, vocab_size, decoding_scope, output_fn, keep_prob)` 函数获取推论分对数。\n",
    "\n",
    "注意：你将需要使用 [tf.variable_scope](https://www.tensorflow.org/api_docs/python/tf/variable_scope) 在训练和推论分对数间分享变量。"
   ]
  },
  {
   "cell_type": "code",
   "execution_count": 21,
   "metadata": {
    "collapsed": false,
    "deletable": true,
    "editable": true
   },
   "outputs": [
    {
     "name": "stdout",
     "output_type": "stream",
     "text": [
      "Tests Passed\n"
     ]
    }
   ],
   "source": [
    "def decoding_layer(dec_embed_input, dec_embeddings, encoder_state, vocab_size, sequence_length, rnn_size,\n",
    "                   num_layers, target_vocab_to_int, keep_prob):\n",
    "    \"\"\"\n",
    "    Create decoding layer\n",
    "    :param dec_embed_input: Decoder embedded input\n",
    "    :param dec_embeddings: Decoder embeddings\n",
    "    :param encoder_state: The encoded state\n",
    "    :param vocab_size: Size of vocabulary\n",
    "    :param sequence_length: Sequence Length\n",
    "    :param rnn_size: RNN Size\n",
    "    :param num_layers: Number of layers\n",
    "    :param target_vocab_to_int: Dictionary to go from the target words to an id\n",
    "    :param keep_prob: Dropout keep probability\n",
    "    :return: Tuple of (Training Logits, Inference Logits)\n",
    "    \"\"\"\n",
    "    # TODO: Implement Function\n",
    "    dec_cell = tf.contrib.rnn.MultiRNNCell([tf.contrib.rnn.BasicLSTMCell(rnn_size)] * num_layers)\n",
    "    with tf.variable_scope(\"decoding\") as decoding_scope:\n",
    "        output= lambda x: tf.contrib.layers.fully_connected(x, vocab_size, None, scope=decoding_scope)\n",
    "        train_logits = decoding_layer_train(encoder_state, dec_cell, dec_embed_input, sequence_length, decoding_scope,\n",
    "                         output, keep_prob)    \n",
    "    with tf.variable_scope(\"decoding\", reuse=True) as decoding_scope:    \n",
    "        infer_logits = decoding_layer_infer(encoder_state, dec_cell, dec_embeddings, target_vocab_to_int['<GO>'], target_vocab_to_int['<EOS>'],\n",
    "                         sequence_length, vocab_size, decoding_scope, output, keep_prob)\n",
    "    return train_logits, infer_logits\n",
    "\n",
    "\n",
    "\"\"\"\n",
    "DON'T MODIFY ANYTHING IN THIS CELL THAT IS BELOW THIS LINE\n",
    "\"\"\"\n",
    "tests.test_decoding_layer(decoding_layer)"
   ]
  },
  {
   "cell_type": "markdown",
   "metadata": {
    "deletable": true,
    "editable": true
   },
   "source": [
    "### 构建神经网络\n",
    "\n",
    "应用你在上方实现的函数，以：\n",
    "\n",
    "- 向编码器的输入数据应用嵌入。\n",
    "- 使用 `encoding_layer(rnn_inputs, rnn_size, num_layers, keep_prob)` 编码输入。\n",
    "- 使用 `process_decoding_input(target_data, target_vocab_to_int, batch_size)` 函数处理目标数据。\n",
    "- 向解码器的目标数据应用嵌入。\n",
    "- 使用 `decoding_layer(dec_embed_input, dec_embeddings, encoder_state, vocab_size, sequence_length, rnn_size, num_layers, target_vocab_to_int, keep_prob)` 解码编码的输入数据。"
   ]
  },
  {
   "cell_type": "code",
   "execution_count": 22,
   "metadata": {
    "collapsed": false,
    "deletable": true,
    "editable": true
   },
   "outputs": [
    {
     "name": "stdout",
     "output_type": "stream",
     "text": [
      "Tests Passed\n"
     ]
    }
   ],
   "source": [
    "def seq2seq_model(input_data, target_data, keep_prob, batch_size, sequence_length, source_vocab_size, target_vocab_size,\n",
    "                  enc_embedding_size, dec_embedding_size, rnn_size, num_layers, target_vocab_to_int):\n",
    "    \"\"\"\n",
    "    Build the Sequence-to-Sequence part of the neural network\n",
    "    :param input_data: Input placeholder\n",
    "    :param target_data: Target placeholder\n",
    "    :param keep_prob: Dropout keep probability placeholder\n",
    "    :param batch_size: Batch Size\n",
    "    :param sequence_length: Sequence Length\n",
    "    :param source_vocab_size: Source vocabulary size\n",
    "    :param target_vocab_size: Target vocabulary size\n",
    "    :param enc_embedding_size: Decoder embedding size\n",
    "    :param dec_embedding_size: Encoder embedding size\n",
    "    :param rnn_size: RNN Size\n",
    "    :param num_layers: Number of layers\n",
    "    :param target_vocab_to_int: Dictionary to go from the target words to an id\n",
    "    :return: Tuple of (Training Logits, Inference Logits)\n",
    "    \"\"\"\n",
    "    # TODO: Implement Function\n",
    "    enc_embed_input = tf.contrib.layers.embed_sequence(input_data, source_vocab_size, enc_embedding_size)\n",
    "    encoder_state = encoding_layer(enc_embed_input, rnn_size, num_layers, keep_prob)\n",
    "    target_data = process_decoding_input(target_data, target_vocab_to_int, batch_size)\n",
    "    #target_embed = tf.contrib.layers.embed_sequence(target_data, target_vocab_size, dec_embedding_size)    \n",
    "    dec_embeddings = tf.Variable(tf.random_uniform([target_vocab_size, dec_embedding_size]))\n",
    "    target_embed = tf.nn.embedding_lookup(dec_embeddings, target_data)\n",
    "    traning_logits,infer_logits=decoding_layer(target_embed, dec_embeddings, encoder_state, target_vocab_size, sequence_length, rnn_size, \\\n",
    "                   num_layers, target_vocab_to_int, keep_prob)\n",
    "    return traning_logits,infer_logits\n",
    "\n",
    "\n",
    "\"\"\"\n",
    "DON'T MODIFY ANYTHING IN THIS CELL THAT IS BELOW THIS LINE\n",
    "\"\"\"\n",
    "tests.test_seq2seq_model(seq2seq_model)"
   ]
  },
  {
   "cell_type": "markdown",
   "metadata": {
    "deletable": true,
    "editable": true
   },
   "source": [
    "## 训练神经网络\n",
    "\n",
    "### 超参数\n",
    "\n",
    "调试以下参数：\n",
    "\n",
    "- 将 `epochs` 设为 epoch 次数。\n",
    "- 将 `batch_size` 设为批次大小。\n",
    "- 将 `rnn_size` 设为 RNN 的大小。\n",
    "- 将 `num_layers` 设为层级数量。\n",
    "- 将 `encoding_embedding_size` 设为编码器嵌入大小。\n",
    "- 将 `decoding_embedding_size` 设为解码器嵌入大小\n",
    "- 将 `learning_rate` 设为训练速率。\n",
    "- 将 `keep_probability` 设为丢弃保留率（Dropout keep probability）。"
   ]
  },
  {
   "cell_type": "code",
   "execution_count": 23,
   "metadata": {
    "collapsed": true,
    "deletable": true,
    "editable": true
   },
   "outputs": [],
   "source": [
    "# Number of Epochs\n",
    "epochs = 1\n",
    "# Batch Size\n",
    "batch_size = 256\n",
    "# RNN Size\n",
    "rnn_size = 512\n",
    "# Number of Layers\n",
    "num_layers = 2\n",
    "# Embedding Size\n",
    "encoding_embedding_size = 300\n",
    "decoding_embedding_size = 300\n",
    "# Learning Rate\n",
    "learning_rate = 0.005\n",
    "# Dropout Keep Probability\n",
    "keep_probability = 0.5"
   ]
  },
  {
   "cell_type": "markdown",
   "metadata": {
    "deletable": true,
    "editable": true
   },
   "source": [
    "### 构建图表\n",
    "\n",
    "使用你实现的神经网络构建图表。"
   ]
  },
  {
   "cell_type": "code",
   "execution_count": 24,
   "metadata": {
    "collapsed": false,
    "deletable": true,
    "editable": true
   },
   "outputs": [],
   "source": [
    "\"\"\"\n",
    "DON'T MODIFY ANYTHING IN THIS CELL\n",
    "\"\"\"\n",
    "save_path = 'checkpoints/dev'\n",
    "(source_int_text, target_int_text), (source_vocab_to_int, target_vocab_to_int), _ = helper.load_preprocess()\n",
    "max_source_sentence_length = max([len(sentence) for sentence in source_int_text])\n",
    "\n",
    "train_graph = tf.Graph()\n",
    "with train_graph.as_default():\n",
    "    input_data, targets, lr, keep_prob = model_inputs()\n",
    "    sequence_length = tf.placeholder_with_default(max_source_sentence_length, None, name='sequence_length')\n",
    "    input_shape = tf.shape(input_data)\n",
    "    \n",
    "    train_logits, inference_logits = seq2seq_model(\n",
    "        tf.reverse(input_data, [-1]), targets, keep_prob, batch_size, sequence_length, len(source_vocab_to_int), len(target_vocab_to_int),\n",
    "        encoding_embedding_size, decoding_embedding_size, rnn_size, num_layers, target_vocab_to_int)\n",
    "\n",
    "    tf.identity(inference_logits, 'logits')\n",
    "    with tf.name_scope(\"optimization\"):\n",
    "        # Loss function\n",
    "        cost = tf.contrib.seq2seq.sequence_loss(\n",
    "            train_logits,\n",
    "            targets,\n",
    "            tf.ones([input_shape[0], sequence_length]))\n",
    "\n",
    "        # Optimizer\n",
    "        optimizer = tf.train.AdamOptimizer(lr)\n",
    "\n",
    "        # Gradient Clipping\n",
    "        gradients = optimizer.compute_gradients(cost)\n",
    "        capped_gradients = [(tf.clip_by_value(grad, -1., 1.), var) for grad, var in gradients if grad is not None]\n",
    "        train_op = optimizer.apply_gradients(capped_gradients)"
   ]
  },
  {
   "cell_type": "markdown",
   "metadata": {
    "deletable": true,
    "editable": true
   },
   "source": [
    "### 训练\n",
    "\n",
    "利用预处理的数据训练神经网络。如果很难获得低损失值，请访问我们的论坛，看看其他人是否遇到了相同的问题。"
   ]
  },
  {
   "cell_type": "code",
   "execution_count": 38,
   "metadata": {
    "collapsed": false,
    "deletable": true,
    "editable": true,
    "scrolled": true
   },
   "outputs": [
    {
     "name": "stdout",
     "output_type": "stream",
     "text": [
      "Epoch   0 Batch    0/538 - Train Accuracy:  0.234, Validation Accuracy:  0.316, Loss:  5.869\n",
      "Epoch   0 Batch    1/538 - Train Accuracy:  0.135, Validation Accuracy:  0.208, Loss:  8.736\n",
      "Epoch   0 Batch    2/538 - Train Accuracy:  0.145, Validation Accuracy:  0.220, Loss:  5.943\n",
      "Epoch   0 Batch    3/538 - Train Accuracy:  0.229, Validation Accuracy:  0.316, Loss:  5.242\n",
      "Epoch   0 Batch    4/538 - Train Accuracy:  0.176, Validation Accuracy:  0.247, Loss:  5.048\n",
      "Epoch   0 Batch    5/538 - Train Accuracy:  0.222, Validation Accuracy:  0.253, Loss:  4.940\n",
      "Epoch   0 Batch    6/538 - Train Accuracy:  0.316, Validation Accuracy:  0.364, Loss:  4.838\n",
      "Epoch   0 Batch    7/538 - Train Accuracy:  0.288, Validation Accuracy:  0.352, Loss:  4.796\n",
      "Epoch   0 Batch    8/538 - Train Accuracy:  0.282, Validation Accuracy:  0.351, Loss:  4.749\n",
      "Epoch   0 Batch    9/538 - Train Accuracy:  0.283, Validation Accuracy:  0.351, Loss:  4.703\n",
      "Epoch   0 Batch   10/538 - Train Accuracy:  0.268, Validation Accuracy:  0.353, Loss:  4.668\n",
      "Epoch   0 Batch   11/538 - Train Accuracy:  0.279, Validation Accuracy:  0.352, Loss:  4.626\n",
      "Epoch   0 Batch   12/538 - Train Accuracy:  0.276, Validation Accuracy:  0.352, Loss:  4.590\n",
      "Epoch   0 Batch   13/538 - Train Accuracy:  0.324, Validation Accuracy:  0.350, Loss:  4.411\n",
      "Epoch   0 Batch   14/538 - Train Accuracy:  0.302, Validation Accuracy:  0.368, Loss:  4.468\n",
      "Epoch   0 Batch   15/538 - Train Accuracy:  0.355, Validation Accuracy:  0.383, Loss:  4.468\n",
      "Epoch   0 Batch   16/538 - Train Accuracy:  0.339, Validation Accuracy:  0.381, Loss:  4.403\n",
      "Epoch   0 Batch   17/538 - Train Accuracy:  0.332, Validation Accuracy:  0.387, Loss:  4.465\n",
      "Epoch   0 Batch   18/538 - Train Accuracy:  0.332, Validation Accuracy:  0.396, Loss:  4.442\n",
      "Epoch   0 Batch   19/538 - Train Accuracy:  0.349, Validation Accuracy:  0.415, Loss:  4.387\n",
      "Epoch   0 Batch   20/538 - Train Accuracy:  0.372, Validation Accuracy:  0.412, Loss:  4.262\n",
      "Epoch   0 Batch   21/538 - Train Accuracy:  0.317, Validation Accuracy:  0.420, Loss:  4.361\n",
      "Epoch   0 Batch   22/538 - Train Accuracy:  0.374, Validation Accuracy:  0.431, Loss:  4.242\n",
      "Epoch   0 Batch   23/538 - Train Accuracy:  0.377, Validation Accuracy:  0.431, Loss:  4.248\n",
      "Epoch   0 Batch   24/538 - Train Accuracy:  0.376, Validation Accuracy:  0.426, Loss:  4.206\n",
      "Epoch   0 Batch   25/538 - Train Accuracy:  0.377, Validation Accuracy:  0.431, Loss:  4.269\n",
      "Epoch   0 Batch   26/538 - Train Accuracy:  0.379, Validation Accuracy:  0.437, Loss:  4.274\n",
      "Epoch   0 Batch   27/538 - Train Accuracy:  0.403, Validation Accuracy:  0.447, Loss:  4.195\n",
      "Epoch   0 Batch   28/538 - Train Accuracy:  0.451, Validation Accuracy:  0.448, Loss:  4.102\n",
      "Epoch   0 Batch   29/538 - Train Accuracy:  0.410, Validation Accuracy:  0.449, Loss:  4.142\n",
      "Epoch   0 Batch   30/538 - Train Accuracy:  0.395, Validation Accuracy:  0.455, Loss:  4.256\n",
      "Epoch   0 Batch   31/538 - Train Accuracy:  0.428, Validation Accuracy:  0.460, Loss:  4.086\n",
      "Epoch   0 Batch   32/538 - Train Accuracy:  0.418, Validation Accuracy:  0.460, Loss:  4.126\n",
      "Epoch   0 Batch   33/538 - Train Accuracy:  0.438, Validation Accuracy:  0.473, Loss:  4.059\n",
      "Epoch   0 Batch   34/538 - Train Accuracy:  0.430, Validation Accuracy:  0.475, Loss:  4.169\n",
      "Epoch   0 Batch   35/538 - Train Accuracy:  0.415, Validation Accuracy:  0.475, Loss:  4.099\n",
      "Epoch   0 Batch   36/538 - Train Accuracy:  0.446, Validation Accuracy:  0.482, Loss:  4.008\n",
      "Epoch   0 Batch   37/538 - Train Accuracy:  0.434, Validation Accuracy:  0.483, Loss:  4.046\n",
      "Epoch   0 Batch   38/538 - Train Accuracy:  0.413, Validation Accuracy:  0.481, Loss:  4.090\n",
      "Epoch   0 Batch   39/538 - Train Accuracy:  0.441, Validation Accuracy:  0.493, Loss:  4.153\n",
      "Epoch   0 Batch   40/538 - Train Accuracy:  0.504, Validation Accuracy:  0.504, Loss:  3.911\n",
      "Epoch   0 Batch   41/538 - Train Accuracy:  0.435, Validation Accuracy:  0.489, Loss:  4.041\n",
      "Epoch   0 Batch   42/538 - Train Accuracy:  0.448, Validation Accuracy:  0.495, Loss:  3.974\n",
      "Epoch   0 Batch   43/538 - Train Accuracy:  0.471, Validation Accuracy:  0.508, Loss:  4.035\n",
      "Epoch   0 Batch   44/538 - Train Accuracy:  0.455, Validation Accuracy:  0.517, Loss:  4.030\n",
      "Epoch   0 Batch   45/538 - Train Accuracy:  0.484, Validation Accuracy:  0.516, Loss:  3.905\n",
      "Epoch   0 Batch   46/538 - Train Accuracy:  0.473, Validation Accuracy:  0.512, Loss:  3.976\n",
      "Epoch   0 Batch   47/538 - Train Accuracy:  0.490, Validation Accuracy:  0.518, Loss:  3.931\n",
      "Epoch   0 Batch   48/538 - Train Accuracy:  0.491, Validation Accuracy:  0.506, Loss:  3.814\n",
      "Epoch   0 Batch   49/538 - Train Accuracy:  0.476, Validation Accuracy:  0.521, Loss:  3.981\n",
      "Epoch   0 Batch   50/538 - Train Accuracy:  0.496, Validation Accuracy:  0.520, Loss:  3.902\n",
      "Epoch   0 Batch   51/538 - Train Accuracy:  0.412, Validation Accuracy:  0.515, Loss:  3.984\n",
      "Epoch   0 Batch   52/538 - Train Accuracy:  0.485, Validation Accuracy:  0.520, Loss:  3.857\n",
      "Epoch   0 Batch   53/538 - Train Accuracy:  0.537, Validation Accuracy:  0.536, Loss:  3.851\n",
      "Epoch   0 Batch   54/538 - Train Accuracy:  0.500, Validation Accuracy:  0.529, Loss:  3.822\n",
      "Epoch   0 Batch   55/538 - Train Accuracy:  0.466, Validation Accuracy:  0.527, Loss:  3.889\n",
      "Epoch   0 Batch   56/538 - Train Accuracy:  0.492, Validation Accuracy:  0.523, Loss:  3.815\n",
      "Epoch   0 Batch   57/538 - Train Accuracy:  0.468, Validation Accuracy:  0.529, Loss:  3.878\n",
      "Epoch   0 Batch   58/538 - Train Accuracy:  0.480, Validation Accuracy:  0.541, Loss:  3.889\n",
      "Epoch   0 Batch   59/538 - Train Accuracy:  0.492, Validation Accuracy:  0.542, Loss:  3.845\n",
      "Epoch   0 Batch   60/538 - Train Accuracy:  0.481, Validation Accuracy:  0.530, Loss:  3.816\n",
      "Epoch   0 Batch   61/538 - Train Accuracy:  0.502, Validation Accuracy:  0.543, Loss:  3.851\n",
      "Epoch   0 Batch   62/538 - Train Accuracy:  0.514, Validation Accuracy:  0.540, Loss:  3.762\n",
      "Epoch   0 Batch   63/538 - Train Accuracy:  0.534, Validation Accuracy:  0.544, Loss:  3.763\n",
      "Epoch   0 Batch   64/538 - Train Accuracy:  0.504, Validation Accuracy:  0.529, Loss:  3.757\n",
      "Epoch   0 Batch   65/538 - Train Accuracy:  0.479, Validation Accuracy:  0.538, Loss:  3.853\n",
      "Epoch   0 Batch   66/538 - Train Accuracy:  0.528, Validation Accuracy:  0.549, Loss:  3.742\n",
      "Epoch   0 Batch   67/538 - Train Accuracy:  0.508, Validation Accuracy:  0.535, Loss:  3.751\n",
      "Epoch   0 Batch   68/538 - Train Accuracy:  0.543, Validation Accuracy:  0.548, Loss:  3.678\n",
      "Epoch   0 Batch   69/538 - Train Accuracy:  0.496, Validation Accuracy:  0.545, Loss:  3.730\n",
      "Epoch   0 Batch   70/538 - Train Accuracy:  0.538, Validation Accuracy:  0.550, Loss:  3.675\n",
      "Epoch   0 Batch   71/538 - Train Accuracy:  0.518, Validation Accuracy:  0.560, Loss:  3.759\n",
      "Epoch   0 Batch   72/538 - Train Accuracy:  0.536, Validation Accuracy:  0.549, Loss:  3.642\n",
      "Epoch   0 Batch   73/538 - Train Accuracy:  0.479, Validation Accuracy:  0.531, Loss:  3.685\n",
      "Epoch   0 Batch   74/538 - Train Accuracy:  0.510, Validation Accuracy:  0.525, Loss:  3.748\n",
      "Epoch   0 Batch   75/538 - Train Accuracy:  0.539, Validation Accuracy:  0.561, Loss:  3.681\n",
      "Epoch   0 Batch   76/538 - Train Accuracy:  0.470, Validation Accuracy:  0.529, Loss:  3.731\n",
      "Epoch   0 Batch   77/538 - Train Accuracy:  0.522, Validation Accuracy:  0.570, Loss:  3.753\n",
      "Epoch   0 Batch   78/538 - Train Accuracy:  0.517, Validation Accuracy:  0.529, Loss:  3.639\n",
      "Epoch   0 Batch   79/538 - Train Accuracy:  0.543, Validation Accuracy:  0.564, Loss:  3.607\n",
      "Epoch   0 Batch   80/538 - Train Accuracy:  0.506, Validation Accuracy:  0.552, Loss:  3.655\n",
      "Epoch   0 Batch   81/538 - Train Accuracy:  0.536, Validation Accuracy:  0.562, Loss:  3.697\n",
      "Epoch   0 Batch   82/538 - Train Accuracy:  0.522, Validation Accuracy:  0.558, Loss:  3.649\n",
      "Epoch   0 Batch   83/538 - Train Accuracy:  0.520, Validation Accuracy:  0.566, Loss:  3.655\n",
      "Epoch   0 Batch   84/538 - Train Accuracy:  0.537, Validation Accuracy:  0.573, Loss:  3.583\n",
      "Epoch   0 Batch   85/538 - Train Accuracy:  0.578, Validation Accuracy:  0.580, Loss:  3.573\n",
      "Epoch   0 Batch   86/538 - Train Accuracy:  0.545, Validation Accuracy:  0.577, Loss:  3.588\n",
      "Epoch   0 Batch   87/538 - Train Accuracy:  0.533, Validation Accuracy:  0.574, Loss:  3.572\n",
      "Epoch   0 Batch   88/538 - Train Accuracy:  0.523, Validation Accuracy:  0.556, Loss:  3.522\n",
      "Epoch   0 Batch   89/538 - Train Accuracy:  0.543, Validation Accuracy:  0.574, Loss:  3.542\n",
      "Epoch   0 Batch   90/538 - Train Accuracy:  0.560, Validation Accuracy:  0.576, Loss:  3.428\n",
      "Epoch   0 Batch   91/538 - Train Accuracy:  0.538, Validation Accuracy:  0.569, Loss:  3.545\n",
      "Epoch   0 Batch   92/538 - Train Accuracy:  0.513, Validation Accuracy:  0.551, Loss:  3.520\n",
      "Epoch   0 Batch   93/538 - Train Accuracy:  0.502, Validation Accuracy:  0.554, Loss:  3.497\n",
      "Epoch   0 Batch   94/538 - Train Accuracy:  0.542, Validation Accuracy:  0.572, Loss:  3.457\n",
      "Epoch   0 Batch   95/538 - Train Accuracy:  0.572, Validation Accuracy:  0.570, Loss:  3.352\n",
      "Epoch   0 Batch   96/538 - Train Accuracy:  0.533, Validation Accuracy:  0.559, Loss:  3.441\n",
      "Epoch   0 Batch   97/538 - Train Accuracy:  0.511, Validation Accuracy:  0.561, Loss:  3.454\n",
      "Epoch   0 Batch   98/538 - Train Accuracy:  0.552, Validation Accuracy:  0.560, Loss:  3.424\n",
      "Epoch   0 Batch   99/538 - Train Accuracy:  0.517, Validation Accuracy:  0.566, Loss:  3.471\n",
      "Epoch   0 Batch  100/538 - Train Accuracy:  0.542, Validation Accuracy:  0.566, Loss:  3.413\n",
      "Epoch   0 Batch  101/538 - Train Accuracy:  0.523, Validation Accuracy:  0.565, Loss:  3.394\n",
      "Epoch   0 Batch  102/538 - Train Accuracy:  0.532, Validation Accuracy:  0.559, Loss:  3.427\n",
      "Epoch   0 Batch  103/538 - Train Accuracy:  0.499, Validation Accuracy:  0.530, Loss:  3.346\n",
      "Epoch   0 Batch  104/538 - Train Accuracy:  0.515, Validation Accuracy:  0.529, Loss:  3.312\n",
      "Epoch   0 Batch  105/538 - Train Accuracy:  0.521, Validation Accuracy:  0.552, Loss:  3.315\n",
      "Epoch   0 Batch  106/538 - Train Accuracy:  0.500, Validation Accuracy:  0.548, Loss:  3.303\n",
      "Epoch   0 Batch  107/538 - Train Accuracy:  0.477, Validation Accuracy:  0.538, Loss:  3.362\n",
      "Epoch   0 Batch  108/538 - Train Accuracy:  0.502, Validation Accuracy:  0.528, Loss:  3.273\n",
      "Epoch   0 Batch  109/538 - Train Accuracy:  0.504, Validation Accuracy:  0.529, Loss:  3.249\n",
      "Epoch   0 Batch  110/538 - Train Accuracy:  0.505, Validation Accuracy:  0.541, Loss:  3.304\n",
      "Epoch   0 Batch  111/538 - Train Accuracy:  0.552, Validation Accuracy:  0.559, Loss:  3.280\n",
      "Epoch   0 Batch  112/538 - Train Accuracy:  0.530, Validation Accuracy:  0.558, Loss:  3.311\n",
      "Epoch   0 Batch  113/538 - Train Accuracy:  0.527, Validation Accuracy:  0.562, Loss:  3.298\n",
      "Epoch   0 Batch  114/538 - Train Accuracy:  0.560, Validation Accuracy:  0.554, Loss:  3.227\n",
      "Epoch   0 Batch  115/538 - Train Accuracy:  0.509, Validation Accuracy:  0.535, Loss:  3.244\n",
      "Epoch   0 Batch  116/538 - Train Accuracy:  0.529, Validation Accuracy:  0.540, Loss:  3.245\n",
      "Epoch   0 Batch  117/538 - Train Accuracy:  0.533, Validation Accuracy:  0.538, Loss:  3.249\n",
      "Epoch   0 Batch  118/538 - Train Accuracy:  0.554, Validation Accuracy:  0.549, Loss:  3.162\n",
      "Epoch   0 Batch  119/538 - Train Accuracy:  0.563, Validation Accuracy:  0.564, Loss:  3.216\n",
      "Epoch   0 Batch  120/538 - Train Accuracy:  0.550, Validation Accuracy:  0.569, Loss:  3.137\n",
      "Epoch   0 Batch  121/538 - Train Accuracy:  0.567, Validation Accuracy:  0.583, Loss:  3.126\n",
      "Epoch   0 Batch  122/538 - Train Accuracy:  0.571, Validation Accuracy:  0.575, Loss:  3.186\n",
      "Epoch   0 Batch  123/538 - Train Accuracy:  0.583, Validation Accuracy:  0.573, Loss:  3.179\n",
      "Epoch   0 Batch  124/538 - Train Accuracy:  0.553, Validation Accuracy:  0.557, Loss:  3.147\n",
      "Epoch   0 Batch  125/538 - Train Accuracy:  0.578, Validation Accuracy:  0.567, Loss:  3.154\n",
      "Epoch   0 Batch  126/538 - Train Accuracy:  0.599, Validation Accuracy:  0.571, Loss:  3.134\n",
      "Epoch   0 Batch  127/538 - Train Accuracy:  0.554, Validation Accuracy:  0.579, Loss:  3.220\n",
      "Epoch   0 Batch  128/538 - Train Accuracy:  0.575, Validation Accuracy:  0.575, Loss:  3.199\n",
      "Epoch   0 Batch  129/538 - Train Accuracy:  0.563, Validation Accuracy:  0.574, Loss:  3.132\n",
      "Epoch   0 Batch  130/538 - Train Accuracy:  0.569, Validation Accuracy:  0.580, Loss:  3.183\n",
      "Epoch   0 Batch  131/538 - Train Accuracy:  0.563, Validation Accuracy:  0.578, Loss:  3.124\n",
      "Epoch   0 Batch  132/538 - Train Accuracy:  0.559, Validation Accuracy:  0.575, Loss:  3.184\n",
      "Epoch   0 Batch  133/538 - Train Accuracy:  0.603, Validation Accuracy:  0.587, Loss:  3.153\n",
      "Epoch   0 Batch  134/538 - Train Accuracy:  0.555, Validation Accuracy:  0.602, Loss:  3.074\n",
      "Epoch   0 Batch  135/538 - Train Accuracy:  0.598, Validation Accuracy:  0.601, Loss:  3.114\n",
      "Epoch   0 Batch  136/538 - Train Accuracy:  0.586, Validation Accuracy:  0.607, Loss:  3.087\n",
      "Epoch   0 Batch  137/538 - Train Accuracy:  0.599, Validation Accuracy:  0.615, Loss:  3.145\n",
      "Epoch   0 Batch  138/538 - Train Accuracy:  0.605, Validation Accuracy:  0.605, Loss:  3.097\n",
      "Epoch   0 Batch  139/538 - Train Accuracy:  0.601, Validation Accuracy:  0.606, Loss:  3.172\n",
      "Epoch   0 Batch  140/538 - Train Accuracy:  0.553, Validation Accuracy:  0.597, Loss:  3.140\n",
      "Epoch   0 Batch  141/538 - Train Accuracy:  0.601, Validation Accuracy:  0.597, Loss:  3.128\n",
      "Epoch   0 Batch  142/538 - Train Accuracy:  0.642, Validation Accuracy:  0.608, Loss:  3.118\n",
      "Epoch   0 Batch  143/538 - Train Accuracy:  0.596, Validation Accuracy:  0.608, Loss:  3.166\n",
      "Epoch   0 Batch  144/538 - Train Accuracy:  0.610, Validation Accuracy:  0.606, Loss:  3.144\n",
      "Epoch   0 Batch  145/538 - Train Accuracy:  0.608, Validation Accuracy:  0.605, Loss:  3.135\n",
      "Epoch   0 Batch  146/538 - Train Accuracy:  0.629, Validation Accuracy:  0.602, Loss:  3.065\n",
      "Epoch   0 Batch  147/538 - Train Accuracy:  0.637, Validation Accuracy:  0.600, Loss:  3.070\n",
      "Epoch   0 Batch  148/538 - Train Accuracy:  0.584, Validation Accuracy:  0.607, Loss:  3.190\n",
      "Epoch   0 Batch  149/538 - Train Accuracy:  0.604, Validation Accuracy:  0.623, Loss:  3.088\n",
      "Epoch   0 Batch  150/538 - Train Accuracy:  0.607, Validation Accuracy:  0.622, Loss:  3.095\n",
      "Epoch   0 Batch  151/538 - Train Accuracy:  0.606, Validation Accuracy:  0.624, Loss:  3.150\n",
      "Epoch   0 Batch  152/538 - Train Accuracy:  0.628, Validation Accuracy:  0.615, Loss:  3.058\n",
      "Epoch   0 Batch  153/538 - Train Accuracy:  0.610, Validation Accuracy:  0.613, Loss:  3.117\n",
      "Epoch   0 Batch  154/538 - Train Accuracy:  0.614, Validation Accuracy:  0.610, Loss:  3.105\n",
      "Epoch   0 Batch  155/538 - Train Accuracy:  0.625, Validation Accuracy:  0.603, Loss:  3.076\n",
      "Epoch   0 Batch  156/538 - Train Accuracy:  0.604, Validation Accuracy:  0.609, Loss:  3.052\n",
      "Epoch   0 Batch  157/538 - Train Accuracy:  0.634, Validation Accuracy:  0.630, Loss:  3.076\n",
      "Epoch   0 Batch  158/538 - Train Accuracy:  0.617, Validation Accuracy:  0.624, Loss:  3.103\n",
      "Epoch   0 Batch  159/538 - Train Accuracy:  0.624, Validation Accuracy:  0.622, Loss:  3.056\n",
      "Epoch   0 Batch  160/538 - Train Accuracy:  0.621, Validation Accuracy:  0.613, Loss:  3.061\n",
      "Epoch   0 Batch  161/538 - Train Accuracy:  0.610, Validation Accuracy:  0.611, Loss:  3.123\n",
      "Epoch   0 Batch  162/538 - Train Accuracy:  0.628, Validation Accuracy:  0.611, Loss:  3.028\n",
      "Epoch   0 Batch  163/538 - Train Accuracy:  0.631, Validation Accuracy:  0.611, Loss:  3.090\n",
      "Epoch   0 Batch  164/538 - Train Accuracy:  0.619, Validation Accuracy:  0.609, Loss:  3.060\n",
      "Epoch   0 Batch  165/538 - Train Accuracy:  0.615, Validation Accuracy:  0.619, Loss:  3.011\n",
      "Epoch   0 Batch  166/538 - Train Accuracy:  0.638, Validation Accuracy:  0.617, Loss:  3.050\n",
      "Epoch   0 Batch  167/538 - Train Accuracy:  0.647, Validation Accuracy:  0.627, Loss:  3.060\n",
      "Epoch   0 Batch  168/538 - Train Accuracy:  0.613, Validation Accuracy:  0.632, Loss:  3.128\n",
      "Epoch   0 Batch  169/538 - Train Accuracy:  0.630, Validation Accuracy:  0.630, Loss:  3.057\n",
      "Epoch   0 Batch  170/538 - Train Accuracy:  0.629, Validation Accuracy:  0.621, Loss:  3.078\n",
      "Epoch   0 Batch  171/538 - Train Accuracy:  0.615, Validation Accuracy:  0.621, Loss:  3.099\n",
      "Epoch   0 Batch  172/538 - Train Accuracy:  0.625, Validation Accuracy:  0.612, Loss:  3.020\n",
      "Epoch   0 Batch  173/538 - Train Accuracy:  0.615, Validation Accuracy:  0.610, Loss:  3.002\n",
      "Epoch   0 Batch  174/538 - Train Accuracy:  0.589, Validation Accuracy:  0.611, Loss:  3.103\n",
      "Epoch   0 Batch  175/538 - Train Accuracy:  0.616, Validation Accuracy:  0.605, Loss:  3.102\n",
      "Epoch   0 Batch  176/538 - Train Accuracy:  0.614, Validation Accuracy:  0.618, Loss:  3.094\n",
      "Epoch   0 Batch  177/538 - Train Accuracy:  0.641, Validation Accuracy:  0.622, Loss:  2.993\n",
      "Epoch   0 Batch  178/538 - Train Accuracy:  0.641, Validation Accuracy:  0.643, Loss:  2.998\n",
      "Epoch   0 Batch  179/538 - Train Accuracy:  0.642, Validation Accuracy:  0.641, Loss:  3.090\n",
      "Epoch   0 Batch  180/538 - Train Accuracy:  0.662, Validation Accuracy:  0.645, Loss:  3.051\n",
      "Epoch   0 Batch  181/538 - Train Accuracy:  0.598, Validation Accuracy:  0.644, Loss:  3.101\n",
      "Epoch   0 Batch  182/538 - Train Accuracy:  0.620, Validation Accuracy:  0.645, Loss:  3.042\n",
      "Epoch   0 Batch  183/538 - Train Accuracy:  0.671, Validation Accuracy:  0.653, Loss:  3.044\n",
      "Epoch   0 Batch  184/538 - Train Accuracy:  0.657, Validation Accuracy:  0.657, Loss:  3.058\n",
      "Epoch   0 Batch  185/538 - Train Accuracy:  0.658, Validation Accuracy:  0.634, Loss:  2.988\n",
      "Epoch   0 Batch  186/538 - Train Accuracy:  0.638, Validation Accuracy:  0.630, Loss:  3.032\n",
      "Epoch   0 Batch  187/538 - Train Accuracy:  0.639, Validation Accuracy:  0.625, Loss:  3.042\n",
      "Epoch   0 Batch  188/538 - Train Accuracy:  0.626, Validation Accuracy:  0.627, Loss:  2.988\n",
      "Epoch   0 Batch  189/538 - Train Accuracy:  0.620, Validation Accuracy:  0.626, Loss:  3.031\n",
      "Epoch   0 Batch  190/538 - Train Accuracy:  0.639, Validation Accuracy:  0.622, Loss:  3.059\n",
      "Epoch   0 Batch  191/538 - Train Accuracy:  0.641, Validation Accuracy:  0.643, Loss:  3.002\n",
      "Epoch   0 Batch  192/538 - Train Accuracy:  0.659, Validation Accuracy:  0.653, Loss:  3.107\n",
      "Epoch   0 Batch  193/538 - Train Accuracy:  0.675, Validation Accuracy:  0.654, Loss:  2.997\n",
      "Epoch   0 Batch  194/538 - Train Accuracy:  0.639, Validation Accuracy:  0.651, Loss:  3.026\n",
      "Epoch   0 Batch  195/538 - Train Accuracy:  0.681, Validation Accuracy:  0.642, Loss:  3.002\n",
      "Epoch   0 Batch  196/538 - Train Accuracy:  0.635, Validation Accuracy:  0.647, Loss:  2.985\n",
      "Epoch   0 Batch  197/538 - Train Accuracy:  0.663, Validation Accuracy:  0.653, Loss:  2.980\n",
      "Epoch   0 Batch  198/538 - Train Accuracy:  0.657, Validation Accuracy:  0.646, Loss:  3.005\n",
      "Epoch   0 Batch  199/538 - Train Accuracy:  0.637, Validation Accuracy:  0.651, Loss:  3.067\n",
      "Epoch   0 Batch  200/538 - Train Accuracy:  0.661, Validation Accuracy:  0.641, Loss:  2.987\n",
      "Epoch   0 Batch  201/538 - Train Accuracy:  0.635, Validation Accuracy:  0.637, Loss:  2.931\n",
      "Epoch   0 Batch  202/538 - Train Accuracy:  0.645, Validation Accuracy:  0.644, Loss:  3.055\n",
      "Epoch   0 Batch  203/538 - Train Accuracy:  0.626, Validation Accuracy:  0.641, Loss:  2.999\n",
      "Epoch   0 Batch  204/538 - Train Accuracy:  0.637, Validation Accuracy:  0.648, Loss:  2.976\n",
      "Epoch   0 Batch  205/538 - Train Accuracy:  0.674, Validation Accuracy:  0.657, Loss:  3.000\n",
      "Epoch   0 Batch  206/538 - Train Accuracy:  0.636, Validation Accuracy:  0.661, Loss:  2.997\n",
      "Epoch   0 Batch  207/538 - Train Accuracy:  0.645, Validation Accuracy:  0.654, Loss:  3.011\n",
      "Epoch   0 Batch  208/538 - Train Accuracy:  0.663, Validation Accuracy:  0.665, Loss:  3.061\n",
      "Epoch   0 Batch  209/538 - Train Accuracy:  0.658, Validation Accuracy:  0.667, Loss:  2.983\n",
      "Epoch   0 Batch  210/538 - Train Accuracy:  0.656, Validation Accuracy:  0.667, Loss:  2.927\n",
      "Epoch   0 Batch  211/538 - Train Accuracy:  0.640, Validation Accuracy:  0.659, Loss:  3.019\n",
      "Epoch   0 Batch  212/538 - Train Accuracy:  0.616, Validation Accuracy:  0.644, Loss:  2.993\n",
      "Epoch   0 Batch  213/538 - Train Accuracy:  0.613, Validation Accuracy:  0.630, Loss:  2.952\n",
      "Epoch   0 Batch  214/538 - Train Accuracy:  0.643, Validation Accuracy:  0.631, Loss:  2.946\n",
      "Epoch   0 Batch  215/538 - Train Accuracy:  0.655, Validation Accuracy:  0.646, Loss:  2.953\n",
      "Epoch   0 Batch  216/538 - Train Accuracy:  0.637, Validation Accuracy:  0.640, Loss:  3.025\n",
      "Epoch   0 Batch  217/538 - Train Accuracy:  0.659, Validation Accuracy:  0.641, Loss:  2.974\n",
      "Epoch   0 Batch  218/538 - Train Accuracy:  0.635, Validation Accuracy:  0.656, Loss:  3.011\n",
      "Epoch   0 Batch  219/538 - Train Accuracy:  0.631, Validation Accuracy:  0.655, Loss:  2.999\n",
      "Epoch   0 Batch  220/538 - Train Accuracy:  0.635, Validation Accuracy:  0.630, Loss:  3.052\n",
      "Epoch   0 Batch  221/538 - Train Accuracy:  0.651, Validation Accuracy:  0.641, Loss:  2.989\n",
      "Epoch   0 Batch  222/538 - Train Accuracy:  0.678, Validation Accuracy:  0.657, Loss:  2.914\n",
      "Epoch   0 Batch  223/538 - Train Accuracy:  0.648, Validation Accuracy:  0.662, Loss:  2.947\n",
      "Epoch   0 Batch  224/538 - Train Accuracy:  0.673, Validation Accuracy:  0.674, Loss:  2.978\n",
      "Epoch   0 Batch  225/538 - Train Accuracy:  0.668, Validation Accuracy:  0.654, Loss:  2.943\n",
      "Epoch   0 Batch  226/538 - Train Accuracy:  0.660, Validation Accuracy:  0.654, Loss:  2.960\n",
      "Epoch   0 Batch  227/538 - Train Accuracy:  0.658, Validation Accuracy:  0.654, Loss:  2.979\n",
      "Epoch   0 Batch  228/538 - Train Accuracy:  0.650, Validation Accuracy:  0.654, Loss:  2.975\n",
      "Epoch   0 Batch  229/538 - Train Accuracy:  0.661, Validation Accuracy:  0.671, Loss:  2.954\n",
      "Epoch   0 Batch  230/538 - Train Accuracy:  0.670, Validation Accuracy:  0.672, Loss:  3.001\n",
      "Epoch   0 Batch  231/538 - Train Accuracy:  0.676, Validation Accuracy:  0.676, Loss:  3.084\n",
      "Epoch   0 Batch  232/538 - Train Accuracy:  0.677, Validation Accuracy:  0.681, Loss:  3.023\n",
      "Epoch   0 Batch  233/538 - Train Accuracy:  0.701, Validation Accuracy:  0.665, Loss:  2.931\n",
      "Epoch   0 Batch  234/538 - Train Accuracy:  0.650, Validation Accuracy:  0.657, Loss:  2.975\n",
      "Epoch   0 Batch  235/538 - Train Accuracy:  0.674, Validation Accuracy:  0.669, Loss:  3.006\n",
      "Epoch   0 Batch  236/538 - Train Accuracy:  0.668, Validation Accuracy:  0.664, Loss:  3.018\n",
      "Epoch   0 Batch  237/538 - Train Accuracy:  0.681, Validation Accuracy:  0.671, Loss:  2.898\n",
      "Epoch   0 Batch  238/538 - Train Accuracy:  0.691, Validation Accuracy:  0.667, Loss:  2.913\n",
      "Epoch   0 Batch  239/538 - Train Accuracy:  0.640, Validation Accuracy:  0.657, Loss:  2.932\n",
      "Epoch   0 Batch  240/538 - Train Accuracy:  0.646, Validation Accuracy:  0.669, Loss:  2.964\n",
      "Epoch   0 Batch  241/538 - Train Accuracy:  0.659, Validation Accuracy:  0.685, Loss:  3.053\n",
      "Epoch   0 Batch  242/538 - Train Accuracy:  0.689, Validation Accuracy:  0.669, Loss:  2.923\n",
      "Epoch   0 Batch  243/538 - Train Accuracy:  0.641, Validation Accuracy:  0.681, Loss:  2.928\n",
      "Epoch   0 Batch  244/538 - Train Accuracy:  0.671, Validation Accuracy:  0.663, Loss:  2.898\n",
      "Epoch   0 Batch  245/538 - Train Accuracy:  0.654, Validation Accuracy:  0.667, Loss:  2.946\n",
      "Epoch   0 Batch  246/538 - Train Accuracy:  0.689, Validation Accuracy:  0.657, Loss:  2.972\n",
      "Epoch   0 Batch  247/538 - Train Accuracy:  0.642, Validation Accuracy:  0.664, Loss:  2.970\n",
      "Epoch   0 Batch  248/538 - Train Accuracy:  0.672, Validation Accuracy:  0.671, Loss:  2.915\n",
      "Epoch   0 Batch  249/538 - Train Accuracy:  0.672, Validation Accuracy:  0.677, Loss:  2.944\n",
      "Epoch   0 Batch  250/538 - Train Accuracy:  0.687, Validation Accuracy:  0.676, Loss:  2.884\n",
      "Epoch   0 Batch  251/538 - Train Accuracy:  0.700, Validation Accuracy:  0.682, Loss:  2.931\n",
      "Epoch   0 Batch  252/538 - Train Accuracy:  0.691, Validation Accuracy:  0.679, Loss:  2.882\n",
      "Epoch   0 Batch  253/538 - Train Accuracy:  0.687, Validation Accuracy:  0.688, Loss:  2.956\n",
      "Epoch   0 Batch  254/538 - Train Accuracy:  0.671, Validation Accuracy:  0.697, Loss:  2.978\n",
      "Epoch   0 Batch  255/538 - Train Accuracy:  0.696, Validation Accuracy:  0.697, Loss:  2.954\n",
      "Epoch   0 Batch  256/538 - Train Accuracy:  0.676, Validation Accuracy:  0.687, Loss:  2.940\n",
      "Epoch   0 Batch  257/538 - Train Accuracy:  0.690, Validation Accuracy:  0.678, Loss:  2.905\n",
      "Epoch   0 Batch  258/538 - Train Accuracy:  0.680, Validation Accuracy:  0.678, Loss:  2.969\n",
      "Epoch   0 Batch  259/538 - Train Accuracy:  0.710, Validation Accuracy:  0.690, Loss:  2.941\n",
      "Epoch   0 Batch  260/538 - Train Accuracy:  0.675, Validation Accuracy:  0.689, Loss:  2.988\n",
      "Epoch   0 Batch  261/538 - Train Accuracy:  0.679, Validation Accuracy:  0.689, Loss:  2.951\n",
      "Epoch   0 Batch  262/538 - Train Accuracy:  0.679, Validation Accuracy:  0.677, Loss:  2.968\n",
      "Epoch   0 Batch  263/538 - Train Accuracy:  0.677, Validation Accuracy:  0.684, Loss:  3.021\n",
      "Epoch   0 Batch  264/538 - Train Accuracy:  0.689, Validation Accuracy:  0.693, Loss:  2.979\n",
      "Epoch   0 Batch  265/538 - Train Accuracy:  0.663, Validation Accuracy:  0.694, Loss:  2.973\n",
      "Epoch   0 Batch  266/538 - Train Accuracy:  0.703, Validation Accuracy:  0.694, Loss:  2.878\n",
      "Epoch   0 Batch  267/538 - Train Accuracy:  0.698, Validation Accuracy:  0.688, Loss:  2.933\n",
      "Epoch   0 Batch  268/538 - Train Accuracy:  0.695, Validation Accuracy:  0.686, Loss:  2.880\n",
      "Epoch   0 Batch  269/538 - Train Accuracy:  0.693, Validation Accuracy:  0.694, Loss:  2.931\n",
      "Epoch   0 Batch  270/538 - Train Accuracy:  0.678, Validation Accuracy:  0.694, Loss:  2.937\n",
      "Epoch   0 Batch  271/538 - Train Accuracy:  0.700, Validation Accuracy:  0.695, Loss:  2.968\n",
      "Epoch   0 Batch  272/538 - Train Accuracy:  0.677, Validation Accuracy:  0.691, Loss:  2.968\n",
      "Epoch   0 Batch  273/538 - Train Accuracy:  0.709, Validation Accuracy:  0.690, Loss:  2.891\n",
      "Epoch   0 Batch  274/538 - Train Accuracy:  0.672, Validation Accuracy:  0.701, Loss:  2.940\n",
      "Epoch   0 Batch  275/538 - Train Accuracy:  0.691, Validation Accuracy:  0.702, Loss:  2.989\n",
      "Epoch   0 Batch  276/538 - Train Accuracy:  0.700, Validation Accuracy:  0.707, Loss:  2.957\n",
      "Epoch   0 Batch  277/538 - Train Accuracy:  0.692, Validation Accuracy:  0.706, Loss:  2.887\n",
      "Epoch   0 Batch  278/538 - Train Accuracy:  0.717, Validation Accuracy:  0.709, Loss:  2.956\n",
      "Epoch   0 Batch  279/538 - Train Accuracy:  0.700, Validation Accuracy:  0.692, Loss:  2.911\n",
      "Epoch   0 Batch  280/538 - Train Accuracy:  0.713, Validation Accuracy:  0.697, Loss:  2.972\n",
      "Epoch   0 Batch  281/538 - Train Accuracy:  0.721, Validation Accuracy:  0.700, Loss:  3.006\n",
      "Epoch   0 Batch  282/538 - Train Accuracy:  0.742, Validation Accuracy:  0.705, Loss:  2.898\n",
      "Epoch   0 Batch  283/538 - Train Accuracy:  0.709, Validation Accuracy:  0.695, Loss:  2.882\n",
      "Epoch   0 Batch  284/538 - Train Accuracy:  0.712, Validation Accuracy:  0.699, Loss:  2.896\n",
      "Epoch   0 Batch  285/538 - Train Accuracy:  0.730, Validation Accuracy:  0.695, Loss:  2.900\n",
      "Epoch   0 Batch  286/538 - Train Accuracy:  0.679, Validation Accuracy:  0.696, Loss:  2.894\n",
      "Epoch   0 Batch  287/538 - Train Accuracy:  0.726, Validation Accuracy:  0.695, Loss:  2.872\n",
      "Epoch   0 Batch  288/538 - Train Accuracy:  0.697, Validation Accuracy:  0.691, Loss:  2.849\n",
      "Epoch   0 Batch  289/538 - Train Accuracy:  0.728, Validation Accuracy:  0.710, Loss:  2.854\n",
      "Epoch   0 Batch  290/538 - Train Accuracy:  0.732, Validation Accuracy:  0.703, Loss:  2.932\n",
      "Epoch   0 Batch  291/538 - Train Accuracy:  0.724, Validation Accuracy:  0.719, Loss:  2.920\n",
      "Epoch   0 Batch  292/538 - Train Accuracy:  0.727, Validation Accuracy:  0.709, Loss:  2.894\n",
      "Epoch   0 Batch  293/538 - Train Accuracy:  0.729, Validation Accuracy:  0.713, Loss:  2.935\n",
      "Epoch   0 Batch  294/538 - Train Accuracy:  0.688, Validation Accuracy:  0.715, Loss:  2.832\n",
      "Epoch   0 Batch  295/538 - Train Accuracy:  0.734, Validation Accuracy:  0.718, Loss:  2.886\n",
      "Epoch   0 Batch  296/538 - Train Accuracy:  0.725, Validation Accuracy:  0.712, Loss:  2.883\n",
      "Epoch   0 Batch  297/538 - Train Accuracy:  0.713, Validation Accuracy:  0.717, Loss:  2.909\n",
      "Epoch   0 Batch  298/538 - Train Accuracy:  0.708, Validation Accuracy:  0.719, Loss:  2.892\n",
      "Epoch   0 Batch  299/538 - Train Accuracy:  0.725, Validation Accuracy:  0.723, Loss:  2.887\n",
      "Epoch   0 Batch  300/538 - Train Accuracy:  0.736, Validation Accuracy:  0.729, Loss:  2.855\n",
      "Epoch   0 Batch  301/538 - Train Accuracy:  0.716, Validation Accuracy:  0.721, Loss:  2.947\n",
      "Epoch   0 Batch  302/538 - Train Accuracy:  0.738, Validation Accuracy:  0.729, Loss:  2.898\n",
      "Epoch   0 Batch  303/538 - Train Accuracy:  0.751, Validation Accuracy:  0.725, Loss:  2.907\n",
      "Epoch   0 Batch  304/538 - Train Accuracy:  0.710, Validation Accuracy:  0.730, Loss:  2.897\n",
      "Epoch   0 Batch  305/538 - Train Accuracy:  0.719, Validation Accuracy:  0.724, Loss:  2.860\n",
      "Epoch   0 Batch  306/538 - Train Accuracy:  0.726, Validation Accuracy:  0.712, Loss:  2.860\n",
      "Epoch   0 Batch  307/538 - Train Accuracy:  0.713, Validation Accuracy:  0.720, Loss:  2.851\n",
      "Epoch   0 Batch  308/538 - Train Accuracy:  0.749, Validation Accuracy:  0.728, Loss:  2.889\n",
      "Epoch   0 Batch  309/538 - Train Accuracy:  0.738, Validation Accuracy:  0.713, Loss:  2.916\n",
      "Epoch   0 Batch  310/538 - Train Accuracy:  0.732, Validation Accuracy:  0.699, Loss:  2.904\n",
      "Epoch   0 Batch  311/538 - Train Accuracy:  0.699, Validation Accuracy:  0.703, Loss:  2.841\n",
      "Epoch   0 Batch  312/538 - Train Accuracy:  0.734, Validation Accuracy:  0.723, Loss:  2.822\n",
      "Epoch   0 Batch  313/538 - Train Accuracy:  0.717, Validation Accuracy:  0.727, Loss:  2.883\n",
      "Epoch   0 Batch  314/538 - Train Accuracy:  0.709, Validation Accuracy:  0.730, Loss:  2.860\n",
      "Epoch   0 Batch  315/538 - Train Accuracy:  0.739, Validation Accuracy:  0.721, Loss:  2.894\n",
      "Epoch   0 Batch  316/538 - Train Accuracy:  0.750, Validation Accuracy:  0.718, Loss:  2.808\n",
      "Epoch   0 Batch  317/538 - Train Accuracy:  0.757, Validation Accuracy:  0.739, Loss:  2.861\n",
      "Epoch   0 Batch  318/538 - Train Accuracy:  0.751, Validation Accuracy:  0.733, Loss:  2.882\n",
      "Epoch   0 Batch  319/538 - Train Accuracy:  0.746, Validation Accuracy:  0.733, Loss:  2.880\n",
      "Epoch   0 Batch  320/538 - Train Accuracy:  0.746, Validation Accuracy:  0.743, Loss:  2.892\n",
      "Epoch   0 Batch  321/538 - Train Accuracy:  0.760, Validation Accuracy:  0.743, Loss:  2.852\n",
      "Epoch   0 Batch  322/538 - Train Accuracy:  0.751, Validation Accuracy:  0.752, Loss:  2.880\n",
      "Epoch   0 Batch  323/538 - Train Accuracy:  0.746, Validation Accuracy:  0.743, Loss:  2.890\n",
      "Epoch   0 Batch  324/538 - Train Accuracy:  0.727, Validation Accuracy:  0.735, Loss:  2.832\n",
      "Epoch   0 Batch  325/538 - Train Accuracy:  0.762, Validation Accuracy:  0.724, Loss:  2.892\n",
      "Epoch   0 Batch  326/538 - Train Accuracy:  0.757, Validation Accuracy:  0.727, Loss:  2.912\n",
      "Epoch   0 Batch  327/538 - Train Accuracy:  0.744, Validation Accuracy:  0.729, Loss:  2.908\n",
      "Epoch   0 Batch  328/538 - Train Accuracy:  0.772, Validation Accuracy:  0.737, Loss:  2.853\n",
      "Epoch   0 Batch  329/538 - Train Accuracy:  0.776, Validation Accuracy:  0.737, Loss:  2.870\n",
      "Epoch   0 Batch  330/538 - Train Accuracy:  0.762, Validation Accuracy:  0.742, Loss:  2.825\n",
      "Epoch   0 Batch  331/538 - Train Accuracy:  0.769, Validation Accuracy:  0.735, Loss:  2.814\n",
      "Epoch   0 Batch  332/538 - Train Accuracy:  0.775, Validation Accuracy:  0.749, Loss:  2.897\n",
      "Epoch   0 Batch  333/538 - Train Accuracy:  0.749, Validation Accuracy:  0.746, Loss:  2.869\n",
      "Epoch   0 Batch  334/538 - Train Accuracy:  0.768, Validation Accuracy:  0.749, Loss:  2.787\n",
      "Epoch   0 Batch  335/538 - Train Accuracy:  0.767, Validation Accuracy:  0.749, Loss:  2.818\n",
      "Epoch   0 Batch  336/538 - Train Accuracy:  0.761, Validation Accuracy:  0.744, Loss:  2.895\n",
      "Epoch   0 Batch  337/538 - Train Accuracy:  0.757, Validation Accuracy:  0.744, Loss:  2.847\n",
      "Epoch   0 Batch  338/538 - Train Accuracy:  0.730, Validation Accuracy:  0.753, Loss:  2.812\n",
      "Epoch   0 Batch  339/538 - Train Accuracy:  0.747, Validation Accuracy:  0.744, Loss:  2.914\n",
      "Epoch   0 Batch  340/538 - Train Accuracy:  0.774, Validation Accuracy:  0.752, Loss:  2.855\n",
      "Epoch   0 Batch  341/538 - Train Accuracy:  0.752, Validation Accuracy:  0.758, Loss:  2.845\n",
      "Epoch   0 Batch  342/538 - Train Accuracy:  0.772, Validation Accuracy:  0.767, Loss:  2.870\n",
      "Epoch   0 Batch  343/538 - Train Accuracy:  0.771, Validation Accuracy:  0.769, Loss:  2.817\n",
      "Epoch   0 Batch  344/538 - Train Accuracy:  0.797, Validation Accuracy:  0.760, Loss:  2.854\n",
      "Epoch   0 Batch  345/538 - Train Accuracy:  0.779, Validation Accuracy:  0.767, Loss:  2.864\n",
      "Epoch   0 Batch  346/538 - Train Accuracy:  0.781, Validation Accuracy:  0.763, Loss:  2.902\n",
      "Epoch   0 Batch  347/538 - Train Accuracy:  0.775, Validation Accuracy:  0.759, Loss:  2.817\n",
      "Epoch   0 Batch  348/538 - Train Accuracy:  0.784, Validation Accuracy:  0.760, Loss:  2.761\n",
      "Epoch   0 Batch  349/538 - Train Accuracy:  0.746, Validation Accuracy:  0.754, Loss:  2.794\n",
      "Epoch   0 Batch  350/538 - Train Accuracy:  0.758, Validation Accuracy:  0.738, Loss:  2.829\n",
      "Epoch   0 Batch  351/538 - Train Accuracy:  0.750, Validation Accuracy:  0.752, Loss:  2.871\n",
      "Epoch   0 Batch  352/538 - Train Accuracy:  0.757, Validation Accuracy:  0.761, Loss:  2.825\n",
      "Epoch   0 Batch  353/538 - Train Accuracy:  0.775, Validation Accuracy:  0.759, Loss:  2.862\n",
      "Epoch   0 Batch  354/538 - Train Accuracy:  0.767, Validation Accuracy:  0.762, Loss:  2.858\n",
      "Epoch   0 Batch  355/538 - Train Accuracy:  0.771, Validation Accuracy:  0.760, Loss:  2.893\n",
      "Epoch   0 Batch  356/538 - Train Accuracy:  0.794, Validation Accuracy:  0.765, Loss:  2.761\n",
      "Epoch   0 Batch  357/538 - Train Accuracy:  0.800, Validation Accuracy:  0.772, Loss:  2.825\n",
      "Epoch   0 Batch  358/538 - Train Accuracy:  0.792, Validation Accuracy:  0.753, Loss:  2.826\n",
      "Epoch   0 Batch  359/538 - Train Accuracy:  0.770, Validation Accuracy:  0.744, Loss:  2.846\n",
      "Epoch   0 Batch  360/538 - Train Accuracy:  0.768, Validation Accuracy:  0.744, Loss:  2.798\n",
      "Epoch   0 Batch  361/538 - Train Accuracy:  0.796, Validation Accuracy:  0.766, Loss:  2.840\n",
      "Epoch   0 Batch  362/538 - Train Accuracy:  0.805, Validation Accuracy:  0.765, Loss:  2.785\n",
      "Epoch   0 Batch  363/538 - Train Accuracy:  0.792, Validation Accuracy:  0.754, Loss:  2.817\n",
      "Epoch   0 Batch  364/538 - Train Accuracy:  0.782, Validation Accuracy:  0.770, Loss:  2.790\n",
      "Epoch   0 Batch  365/538 - Train Accuracy:  0.769, Validation Accuracy:  0.762, Loss:  2.787\n",
      "Epoch   0 Batch  366/538 - Train Accuracy:  0.783, Validation Accuracy:  0.756, Loss:  2.817\n",
      "Epoch   0 Batch  367/538 - Train Accuracy:  0.789, Validation Accuracy:  0.766, Loss:  2.893\n",
      "Epoch   0 Batch  368/538 - Train Accuracy:  0.819, Validation Accuracy:  0.784, Loss:  2.818\n",
      "Epoch   0 Batch  369/538 - Train Accuracy:  0.794, Validation Accuracy:  0.780, Loss:  2.833\n",
      "Epoch   0 Batch  370/538 - Train Accuracy:  0.789, Validation Accuracy:  0.782, Loss:  2.825\n",
      "Epoch   0 Batch  371/538 - Train Accuracy:  0.789, Validation Accuracy:  0.775, Loss:  2.843\n",
      "Epoch   0 Batch  372/538 - Train Accuracy:  0.812, Validation Accuracy:  0.782, Loss:  2.798\n",
      "Epoch   0 Batch  373/538 - Train Accuracy:  0.790, Validation Accuracy:  0.790, Loss:  2.866\n",
      "Epoch   0 Batch  374/538 - Train Accuracy:  0.803, Validation Accuracy:  0.779, Loss:  2.785\n",
      "Epoch   0 Batch  375/538 - Train Accuracy:  0.811, Validation Accuracy:  0.782, Loss:  2.773\n",
      "Epoch   0 Batch  376/538 - Train Accuracy:  0.809, Validation Accuracy:  0.782, Loss:  2.871\n",
      "Epoch   0 Batch  377/538 - Train Accuracy:  0.811, Validation Accuracy:  0.792, Loss:  2.769\n",
      "Epoch   0 Batch  378/538 - Train Accuracy:  0.811, Validation Accuracy:  0.789, Loss:  2.845\n",
      "Epoch   0 Batch  379/538 - Train Accuracy:  0.810, Validation Accuracy:  0.792, Loss:  2.786\n",
      "Epoch   0 Batch  380/538 - Train Accuracy:  0.809, Validation Accuracy:  0.795, Loss:  2.763\n",
      "Epoch   0 Batch  381/538 - Train Accuracy:  0.818, Validation Accuracy:  0.783, Loss:  2.830\n",
      "Epoch   0 Batch  382/538 - Train Accuracy:  0.780, Validation Accuracy:  0.789, Loss:  2.826\n",
      "Epoch   0 Batch  383/538 - Train Accuracy:  0.788, Validation Accuracy:  0.770, Loss:  2.852\n",
      "Epoch   0 Batch  384/538 - Train Accuracy:  0.796, Validation Accuracy:  0.768, Loss:  2.814\n",
      "Epoch   0 Batch  385/538 - Train Accuracy:  0.803, Validation Accuracy:  0.770, Loss:  2.774\n",
      "Epoch   0 Batch  386/538 - Train Accuracy:  0.787, Validation Accuracy:  0.771, Loss:  2.821\n",
      "Epoch   0 Batch  387/538 - Train Accuracy:  0.795, Validation Accuracy:  0.770, Loss:  2.754\n",
      "Epoch   0 Batch  388/538 - Train Accuracy:  0.801, Validation Accuracy:  0.773, Loss:  2.831\n",
      "Epoch   0 Batch  389/538 - Train Accuracy:  0.773, Validation Accuracy:  0.790, Loss:  2.847\n",
      "Epoch   0 Batch  390/538 - Train Accuracy:  0.821, Validation Accuracy:  0.799, Loss:  2.826\n",
      "Epoch   0 Batch  391/538 - Train Accuracy:  0.795, Validation Accuracy:  0.787, Loss:  2.777\n",
      "Epoch   0 Batch  392/538 - Train Accuracy:  0.796, Validation Accuracy:  0.785, Loss:  2.733\n",
      "Epoch   0 Batch  393/538 - Train Accuracy:  0.817, Validation Accuracy:  0.794, Loss:  2.759\n",
      "Epoch   0 Batch  394/538 - Train Accuracy:  0.755, Validation Accuracy:  0.794, Loss:  2.846\n",
      "Epoch   0 Batch  395/538 - Train Accuracy:  0.787, Validation Accuracy:  0.785, Loss:  2.865\n",
      "Epoch   0 Batch  396/538 - Train Accuracy:  0.798, Validation Accuracy:  0.797, Loss:  2.771\n",
      "Epoch   0 Batch  397/538 - Train Accuracy:  0.797, Validation Accuracy:  0.786, Loss:  2.745\n",
      "Epoch   0 Batch  398/538 - Train Accuracy:  0.805, Validation Accuracy:  0.776, Loss:  2.836\n",
      "Epoch   0 Batch  399/538 - Train Accuracy:  0.784, Validation Accuracy:  0.762, Loss:  2.828\n",
      "Epoch   0 Batch  400/538 - Train Accuracy:  0.793, Validation Accuracy:  0.769, Loss:  2.773\n",
      "Epoch   0 Batch  401/538 - Train Accuracy:  0.808, Validation Accuracy:  0.776, Loss:  2.818\n",
      "Epoch   0 Batch  402/538 - Train Accuracy:  0.815, Validation Accuracy:  0.784, Loss:  2.730\n",
      "Epoch   0 Batch  403/538 - Train Accuracy:  0.805, Validation Accuracy:  0.783, Loss:  2.821\n",
      "Epoch   0 Batch  404/538 - Train Accuracy:  0.818, Validation Accuracy:  0.793, Loss:  2.684\n",
      "Epoch   0 Batch  405/538 - Train Accuracy:  0.812, Validation Accuracy:  0.787, Loss:  2.861\n",
      "Epoch   0 Batch  406/538 - Train Accuracy:  0.807, Validation Accuracy:  0.793, Loss:  2.807\n",
      "Epoch   0 Batch  407/538 - Train Accuracy:  0.804, Validation Accuracy:  0.800, Loss:  2.790\n",
      "Epoch   0 Batch  408/538 - Train Accuracy:  0.794, Validation Accuracy:  0.805, Loss:  2.810\n",
      "Epoch   0 Batch  409/538 - Train Accuracy:  0.808, Validation Accuracy:  0.788, Loss:  2.745\n",
      "Epoch   0 Batch  410/538 - Train Accuracy:  0.841, Validation Accuracy:  0.792, Loss:  2.808\n",
      "Epoch   0 Batch  411/538 - Train Accuracy:  0.823, Validation Accuracy:  0.796, Loss:  2.742\n",
      "Epoch   0 Batch  412/538 - Train Accuracy:  0.816, Validation Accuracy:  0.793, Loss:  2.771\n",
      "Epoch   0 Batch  413/538 - Train Accuracy:  0.799, Validation Accuracy:  0.785, Loss:  2.811\n",
      "Epoch   0 Batch  414/538 - Train Accuracy:  0.779, Validation Accuracy:  0.796, Loss:  2.803\n",
      "Epoch   0 Batch  415/538 - Train Accuracy:  0.799, Validation Accuracy:  0.801, Loss:  2.845\n",
      "Epoch   0 Batch  416/538 - Train Accuracy:  0.828, Validation Accuracy:  0.802, Loss:  2.808\n",
      "Epoch   0 Batch  417/538 - Train Accuracy:  0.825, Validation Accuracy:  0.803, Loss:  2.837\n",
      "Epoch   0 Batch  418/538 - Train Accuracy:  0.828, Validation Accuracy:  0.799, Loss:  2.771\n",
      "Epoch   0 Batch  419/538 - Train Accuracy:  0.815, Validation Accuracy:  0.800, Loss:  2.801\n",
      "Epoch   0 Batch  420/538 - Train Accuracy:  0.837, Validation Accuracy:  0.823, Loss:  2.741\n",
      "Epoch   0 Batch  421/538 - Train Accuracy:  0.847, Validation Accuracy:  0.821, Loss:  2.824\n",
      "Epoch   0 Batch  422/538 - Train Accuracy:  0.832, Validation Accuracy:  0.825, Loss:  2.822\n",
      "Epoch   0 Batch  423/538 - Train Accuracy:  0.841, Validation Accuracy:  0.818, Loss:  2.782\n",
      "Epoch   0 Batch  424/538 - Train Accuracy:  0.829, Validation Accuracy:  0.818, Loss:  2.743\n",
      "Epoch   0 Batch  425/538 - Train Accuracy:  0.830, Validation Accuracy:  0.825, Loss:  2.827\n",
      "Epoch   0 Batch  426/538 - Train Accuracy:  0.833, Validation Accuracy:  0.819, Loss:  2.728\n",
      "Epoch   0 Batch  427/538 - Train Accuracy:  0.831, Validation Accuracy:  0.809, Loss:  2.842\n",
      "Epoch   0 Batch  428/538 - Train Accuracy:  0.844, Validation Accuracy:  0.805, Loss:  2.752\n",
      "Epoch   0 Batch  429/538 - Train Accuracy:  0.831, Validation Accuracy:  0.818, Loss:  2.726\n",
      "Epoch   0 Batch  430/538 - Train Accuracy:  0.845, Validation Accuracy:  0.820, Loss:  2.809\n",
      "Epoch   0 Batch  431/538 - Train Accuracy:  0.840, Validation Accuracy:  0.817, Loss:  2.741\n",
      "Epoch   0 Batch  432/538 - Train Accuracy:  0.845, Validation Accuracy:  0.819, Loss:  2.725\n",
      "Epoch   0 Batch  433/538 - Train Accuracy:  0.820, Validation Accuracy:  0.823, Loss:  2.763\n",
      "Epoch   0 Batch  434/538 - Train Accuracy:  0.814, Validation Accuracy:  0.815, Loss:  2.726\n",
      "Epoch   0 Batch  435/538 - Train Accuracy:  0.856, Validation Accuracy:  0.825, Loss:  2.814\n",
      "Epoch   0 Batch  436/538 - Train Accuracy:  0.810, Validation Accuracy:  0.821, Loss:  2.813\n",
      "Epoch   0 Batch  437/538 - Train Accuracy:  0.831, Validation Accuracy:  0.827, Loss:  2.809\n",
      "Epoch   0 Batch  438/538 - Train Accuracy:  0.856, Validation Accuracy:  0.823, Loss:  2.770\n",
      "Epoch   0 Batch  439/538 - Train Accuracy:  0.872, Validation Accuracy:  0.831, Loss:  2.737\n",
      "Epoch   0 Batch  440/538 - Train Accuracy:  0.843, Validation Accuracy:  0.840, Loss:  2.765\n",
      "Epoch   0 Batch  441/538 - Train Accuracy:  0.862, Validation Accuracy:  0.835, Loss:  2.743\n",
      "Epoch   0 Batch  442/538 - Train Accuracy:  0.863, Validation Accuracy:  0.836, Loss:  2.702\n",
      "Epoch   0 Batch  443/538 - Train Accuracy:  0.835, Validation Accuracy:  0.838, Loss:  2.713\n",
      "Epoch   0 Batch  444/538 - Train Accuracy:  0.880, Validation Accuracy:  0.841, Loss:  2.794\n",
      "Epoch   0 Batch  445/538 - Train Accuracy:  0.870, Validation Accuracy:  0.843, Loss:  2.751\n",
      "Epoch   0 Batch  446/538 - Train Accuracy:  0.859, Validation Accuracy:  0.844, Loss:  2.718\n",
      "Epoch   0 Batch  447/538 - Train Accuracy:  0.848, Validation Accuracy:  0.830, Loss:  2.762\n",
      "Epoch   0 Batch  448/538 - Train Accuracy:  0.847, Validation Accuracy:  0.834, Loss:  2.755\n",
      "Epoch   0 Batch  449/538 - Train Accuracy:  0.852, Validation Accuracy:  0.816, Loss:  2.755\n",
      "Epoch   0 Batch  450/538 - Train Accuracy:  0.844, Validation Accuracy:  0.831, Loss:  2.797\n",
      "Epoch   0 Batch  451/538 - Train Accuracy:  0.827, Validation Accuracy:  0.832, Loss:  2.733\n",
      "Epoch   0 Batch  452/538 - Train Accuracy:  0.855, Validation Accuracy:  0.827, Loss:  2.751\n",
      "Epoch   0 Batch  453/538 - Train Accuracy:  0.852, Validation Accuracy:  0.828, Loss:  2.797\n",
      "Epoch   0 Batch  454/538 - Train Accuracy:  0.852, Validation Accuracy:  0.824, Loss:  2.711\n",
      "Epoch   0 Batch  455/538 - Train Accuracy:  0.853, Validation Accuracy:  0.839, Loss:  2.753\n",
      "Epoch   0 Batch  456/538 - Train Accuracy:  0.879, Validation Accuracy:  0.860, Loss:  2.653\n",
      "Epoch   0 Batch  457/538 - Train Accuracy:  0.856, Validation Accuracy:  0.857, Loss:  2.730\n",
      "Epoch   0 Batch  458/538 - Train Accuracy:  0.881, Validation Accuracy:  0.857, Loss:  2.733\n",
      "Epoch   0 Batch  459/538 - Train Accuracy:  0.870, Validation Accuracy:  0.852, Loss:  2.742\n",
      "Epoch   0 Batch  460/538 - Train Accuracy:  0.843, Validation Accuracy:  0.845, Loss:  2.708\n",
      "Epoch   0 Batch  461/538 - Train Accuracy:  0.855, Validation Accuracy:  0.843, Loss:  2.746\n",
      "Epoch   0 Batch  462/538 - Train Accuracy:  0.860, Validation Accuracy:  0.830, Loss:  2.652\n",
      "Epoch   0 Batch  463/538 - Train Accuracy:  0.824, Validation Accuracy:  0.843, Loss:  2.705\n",
      "Epoch   0 Batch  464/538 - Train Accuracy:  0.881, Validation Accuracy:  0.846, Loss:  2.753\n",
      "Epoch   0 Batch  465/538 - Train Accuracy:  0.865, Validation Accuracy:  0.850, Loss:  2.756\n",
      "Epoch   0 Batch  466/538 - Train Accuracy:  0.847, Validation Accuracy:  0.852, Loss:  2.725\n",
      "Epoch   0 Batch  467/538 - Train Accuracy:  0.877, Validation Accuracy:  0.850, Loss:  2.728\n",
      "Epoch   0 Batch  468/538 - Train Accuracy:  0.882, Validation Accuracy:  0.860, Loss:  2.724\n",
      "Epoch   0 Batch  469/538 - Train Accuracy:  0.859, Validation Accuracy:  0.846, Loss:  2.753\n",
      "Epoch   0 Batch  470/538 - Train Accuracy:  0.876, Validation Accuracy:  0.843, Loss:  2.685\n",
      "Epoch   0 Batch  471/538 - Train Accuracy:  0.871, Validation Accuracy:  0.846, Loss:  2.761\n",
      "Epoch   0 Batch  472/538 - Train Accuracy:  0.885, Validation Accuracy:  0.857, Loss:  2.694\n",
      "Epoch   0 Batch  473/538 - Train Accuracy:  0.852, Validation Accuracy:  0.868, Loss:  2.714\n",
      "Epoch   0 Batch  474/538 - Train Accuracy:  0.867, Validation Accuracy:  0.871, Loss:  2.737\n",
      "Epoch   0 Batch  475/538 - Train Accuracy:  0.876, Validation Accuracy:  0.853, Loss:  2.744\n",
      "Epoch   0 Batch  476/538 - Train Accuracy:  0.877, Validation Accuracy:  0.828, Loss:  2.687\n",
      "Epoch   0 Batch  477/538 - Train Accuracy:  0.858, Validation Accuracy:  0.841, Loss:  2.658\n",
      "Epoch   0 Batch  478/538 - Train Accuracy:  0.882, Validation Accuracy:  0.868, Loss:  2.729\n",
      "Epoch   0 Batch  479/538 - Train Accuracy:  0.891, Validation Accuracy:  0.870, Loss:  2.729\n",
      "Epoch   0 Batch  480/538 - Train Accuracy:  0.880, Validation Accuracy:  0.873, Loss:  2.728\n",
      "Epoch   0 Batch  481/538 - Train Accuracy:  0.866, Validation Accuracy:  0.860, Loss:  2.721\n",
      "Epoch   0 Batch  482/538 - Train Accuracy:  0.885, Validation Accuracy:  0.874, Loss:  2.695\n",
      "Epoch   0 Batch  483/538 - Train Accuracy:  0.855, Validation Accuracy:  0.867, Loss:  2.758\n",
      "Epoch   0 Batch  484/538 - Train Accuracy:  0.883, Validation Accuracy:  0.861, Loss:  2.719\n",
      "Epoch   0 Batch  485/538 - Train Accuracy:  0.886, Validation Accuracy:  0.861, Loss:  2.694\n",
      "Epoch   0 Batch  486/538 - Train Accuracy:  0.915, Validation Accuracy:  0.867, Loss:  2.685\n",
      "Epoch   0 Batch  487/538 - Train Accuracy:  0.882, Validation Accuracy:  0.878, Loss:  2.655\n",
      "Epoch   0 Batch  488/538 - Train Accuracy:  0.893, Validation Accuracy:  0.883, Loss:  2.702\n",
      "Epoch   0 Batch  489/538 - Train Accuracy:  0.864, Validation Accuracy:  0.884, Loss:  2.681\n",
      "Epoch   0 Batch  490/538 - Train Accuracy:  0.886, Validation Accuracy:  0.868, Loss:  2.667\n",
      "Epoch   0 Batch  491/538 - Train Accuracy:  0.858, Validation Accuracy:  0.866, Loss:  2.715\n",
      "Epoch   0 Batch  492/538 - Train Accuracy:  0.874, Validation Accuracy:  0.860, Loss:  2.685\n",
      "Epoch   0 Batch  493/538 - Train Accuracy:  0.864, Validation Accuracy:  0.858, Loss:  2.736\n",
      "Epoch   0 Batch  494/538 - Train Accuracy:  0.866, Validation Accuracy:  0.865, Loss:  2.696\n",
      "Epoch   0 Batch  495/538 - Train Accuracy:  0.877, Validation Accuracy:  0.875, Loss:  2.645\n",
      "Epoch   0 Batch  496/538 - Train Accuracy:  0.881, Validation Accuracy:  0.882, Loss:  2.646\n",
      "Epoch   0 Batch  497/538 - Train Accuracy:  0.874, Validation Accuracy:  0.873, Loss:  2.676\n",
      "Epoch   0 Batch  498/538 - Train Accuracy:  0.868, Validation Accuracy:  0.882, Loss:  2.777\n",
      "Epoch   0 Batch  499/538 - Train Accuracy:  0.901, Validation Accuracy:  0.879, Loss:  2.697\n",
      "Epoch   0 Batch  500/538 - Train Accuracy:  0.894, Validation Accuracy:  0.867, Loss:  2.647\n",
      "Epoch   0 Batch  501/538 - Train Accuracy:  0.895, Validation Accuracy:  0.872, Loss:  2.685\n",
      "Epoch   0 Batch  502/538 - Train Accuracy:  0.883, Validation Accuracy:  0.875, Loss:  2.727\n",
      "Epoch   0 Batch  503/538 - Train Accuracy:  0.899, Validation Accuracy:  0.881, Loss:  2.761\n",
      "Epoch   0 Batch  504/538 - Train Accuracy:  0.911, Validation Accuracy:  0.889, Loss:  2.743\n",
      "Epoch   0 Batch  505/538 - Train Accuracy:  0.908, Validation Accuracy:  0.884, Loss:  2.692\n",
      "Epoch   0 Batch  506/538 - Train Accuracy:  0.897, Validation Accuracy:  0.886, Loss:  2.647\n",
      "Epoch   0 Batch  507/538 - Train Accuracy:  0.843, Validation Accuracy:  0.889, Loss:  2.740\n",
      "Epoch   0 Batch  508/538 - Train Accuracy:  0.889, Validation Accuracy:  0.895, Loss:  2.710\n",
      "Epoch   0 Batch  509/538 - Train Accuracy:  0.901, Validation Accuracy:  0.890, Loss:  2.672\n",
      "Epoch   0 Batch  510/538 - Train Accuracy:  0.884, Validation Accuracy:  0.894, Loss:  2.625\n",
      "Epoch   0 Batch  511/538 - Train Accuracy:  0.881, Validation Accuracy:  0.896, Loss:  2.671\n",
      "Epoch   0 Batch  512/538 - Train Accuracy:  0.905, Validation Accuracy:  0.897, Loss:  2.678\n",
      "Epoch   0 Batch  513/538 - Train Accuracy:  0.873, Validation Accuracy:  0.888, Loss:  2.672\n",
      "Epoch   0 Batch  514/538 - Train Accuracy:  0.894, Validation Accuracy:  0.882, Loss:  2.691\n",
      "Epoch   0 Batch  515/538 - Train Accuracy:  0.898, Validation Accuracy:  0.888, Loss:  2.717\n",
      "Epoch   0 Batch  516/538 - Train Accuracy:  0.848, Validation Accuracy:  0.888, Loss:  2.643\n",
      "Epoch   0 Batch  517/538 - Train Accuracy:  0.902, Validation Accuracy:  0.881, Loss:  2.749\n",
      "Epoch   0 Batch  518/538 - Train Accuracy:  0.872, Validation Accuracy:  0.871, Loss:  2.732\n",
      "Epoch   0 Batch  519/538 - Train Accuracy:  0.897, Validation Accuracy:  0.887, Loss:  2.691\n",
      "Epoch   0 Batch  520/538 - Train Accuracy:  0.900, Validation Accuracy:  0.893, Loss:  2.686\n",
      "Epoch   0 Batch  521/538 - Train Accuracy:  0.900, Validation Accuracy:  0.891, Loss:  2.626\n",
      "Epoch   0 Batch  522/538 - Train Accuracy:  0.887, Validation Accuracy:  0.887, Loss:  2.680\n",
      "Epoch   0 Batch  523/538 - Train Accuracy:  0.898, Validation Accuracy:  0.894, Loss:  2.630\n",
      "Epoch   0 Batch  524/538 - Train Accuracy:  0.876, Validation Accuracy:  0.888, Loss:  2.685\n",
      "Epoch   0 Batch  525/538 - Train Accuracy:  0.911, Validation Accuracy:  0.885, Loss:  2.639\n",
      "Epoch   0 Batch  526/538 - Train Accuracy:  0.901, Validation Accuracy:  0.883, Loss:  2.663\n",
      "Epoch   0 Batch  527/538 - Train Accuracy:  0.894, Validation Accuracy:  0.886, Loss:  2.731\n",
      "Epoch   0 Batch  528/538 - Train Accuracy:  0.894, Validation Accuracy:  0.890, Loss:  2.673\n",
      "Epoch   0 Batch  529/538 - Train Accuracy:  0.862, Validation Accuracy:  0.897, Loss:  2.602\n",
      "Epoch   0 Batch  530/538 - Train Accuracy:  0.873, Validation Accuracy:  0.888, Loss:  2.713\n",
      "Epoch   0 Batch  531/538 - Train Accuracy:  0.895, Validation Accuracy:  0.878, Loss:  2.707\n",
      "Epoch   0 Batch  532/538 - Train Accuracy:  0.886, Validation Accuracy:  0.883, Loss:  2.651\n",
      "Epoch   0 Batch  533/538 - Train Accuracy:  0.910, Validation Accuracy:  0.886, Loss:  2.677\n",
      "Epoch   0 Batch  534/538 - Train Accuracy:  0.894, Validation Accuracy:  0.872, Loss:  2.685\n",
      "Epoch   0 Batch  535/538 - Train Accuracy:  0.910, Validation Accuracy:  0.874, Loss:  2.716\n",
      "Epoch   0 Batch  536/538 - Train Accuracy:  0.905, Validation Accuracy:  0.878, Loss:  2.735\n",
      "Model Trained and Saved\n"
     ]
    }
   ],
   "source": [
    "\"\"\"\n",
    "DON'T MODIFY ANYTHING IN THIS CELL\n",
    "\"\"\"\n",
    "import time\n",
    "\n",
    "def get_accuracy(target, logits):\n",
    "    \"\"\"\n",
    "    Calculate accuracy\n",
    "    \"\"\"\n",
    "    max_seq = max(target.shape[1], logits.shape[1])\n",
    "    if max_seq - target.shape[1]:\n",
    "        target = np.pad(\n",
    "            target,\n",
    "            [(0,0),(0,max_seq - target.shape[1])],\n",
    "            'constant')\n",
    "    if max_seq - logits.shape[1]:\n",
    "        logits = np.pad(\n",
    "            logits,\n",
    "            [(0,0),(0,max_seq - logits.shape[1]), (0,0)],\n",
    "            'constant')\n",
    "\n",
    "    return np.mean(np.equal(target, np.argmax(logits, 2)))\n",
    "\n",
    "train_source = source_int_text[batch_size:]\n",
    "train_target = target_int_text[batch_size:]\n",
    "\n",
    "valid_source = helper.pad_sentence_batch(source_int_text[:batch_size])\n",
    "valid_target = helper.pad_sentence_batch(target_int_text[:batch_size])\n",
    "\n",
    "with tf.Session(graph=train_graph) as sess:\n",
    "    sess.run(tf.global_variables_initializer())\n",
    "\n",
    "    for epoch_i in range(epochs):\n",
    "        for batch_i, (source_batch, target_batch) in enumerate(\n",
    "                helper.batch_data(train_source, train_target, batch_size)):\n",
    "            start_time = time.time()\n",
    "            \n",
    "            _, loss = sess.run(\n",
    "                [train_op, cost],\n",
    "                {input_data: source_batch,\n",
    "                 targets: target_batch,\n",
    "                 lr: learning_rate,\n",
    "                 sequence_length: target_batch.shape[1],\n",
    "                 keep_prob: keep_probability})\n",
    "            \n",
    "            batch_train_logits = sess.run(\n",
    "                inference_logits,\n",
    "                {input_data: source_batch, keep_prob: 1.0})\n",
    "            batch_valid_logits = sess.run(\n",
    "                inference_logits,\n",
    "                {input_data: valid_source, keep_prob: 1.0})\n",
    "                \n",
    "            train_acc = get_accuracy(target_batch, batch_train_logits)\n",
    "            valid_acc = get_accuracy(np.array(valid_target), batch_valid_logits)\n",
    "            end_time = time.time()\n",
    "            print('Epoch {:>3} Batch {:>4}/{} - Train Accuracy: {:>6.3f}, Validation Accuracy: {:>6.3f}, Loss: {:>6.3f}'\n",
    "                  .format(epoch_i, batch_i, len(source_int_text) // batch_size, train_acc, valid_acc, loss))\n",
    "\n",
    "    # Save Model\n",
    "    saver = tf.train.Saver()\n",
    "    saver.save(sess, save_path)\n",
    "    print('Model Trained and Saved')"
   ]
  },
  {
   "cell_type": "markdown",
   "metadata": {
    "deletable": true,
    "editable": true
   },
   "source": [
    "### 保存参数\n",
    "\n",
    "保存 `batch_size` 和 `save_path` 参数以进行推论（for inference）。"
   ]
  },
  {
   "cell_type": "code",
   "execution_count": 39,
   "metadata": {
    "collapsed": false,
    "deletable": true,
    "editable": true
   },
   "outputs": [],
   "source": [
    "\"\"\"\n",
    "DON'T MODIFY ANYTHING IN THIS CELL\n",
    "\"\"\"\n",
    "# Save parameters for checkpoint\n",
    "helper.save_params(save_path)"
   ]
  },
  {
   "cell_type": "markdown",
   "metadata": {
    "deletable": true,
    "editable": true
   },
   "source": [
    "# 检查点"
   ]
  },
  {
   "cell_type": "code",
   "execution_count": 40,
   "metadata": {
    "collapsed": false,
    "deletable": true,
    "editable": true
   },
   "outputs": [],
   "source": [
    "\"\"\"\n",
    "DON'T MODIFY ANYTHING IN THIS CELL\n",
    "\"\"\"\n",
    "import tensorflow as tf\n",
    "import numpy as np\n",
    "import helper\n",
    "import problem_unittests as tests\n",
    "\n",
    "_, (source_vocab_to_int, target_vocab_to_int), (source_int_to_vocab, target_int_to_vocab) = helper.load_preprocess()\n",
    "load_path = helper.load_params()"
   ]
  },
  {
   "cell_type": "markdown",
   "metadata": {
    "deletable": true,
    "editable": true
   },
   "source": [
    "## 句子到序列\n",
    "\n",
    "要向模型提供要翻译的句子，你首先需要预处理该句子。实现函数 `sentence_to_seq()` 以预处理新的句子。\n",
    "\n",
    "- 将句子转换为小写形式\n",
    "- 使用 `vocab_to_int` 将单词转换为 id\n",
    " - 如果单词不在词汇表中，将其转换为`<UNK>` 单词 id"
   ]
  },
  {
   "cell_type": "code",
   "execution_count": 43,
   "metadata": {
    "collapsed": false,
    "deletable": true,
    "editable": true
   },
   "outputs": [
    {
     "name": "stdout",
     "output_type": "stream",
     "text": [
      "Tests Passed\n"
     ]
    }
   ],
   "source": [
    "def sentence_to_seq(sentence, vocab_to_int):\n",
    "    \"\"\"\n",
    "    Convert a sentence to a sequence of ids\n",
    "    :param sentence: String\n",
    "    :param vocab_to_int: Dictionary to go from the words to an id\n",
    "    :return: List of word ids\n",
    "    \"\"\"\n",
    "    # TODO: Implement Function\n",
    "    sentence = sentence.lower()\n",
    "    words = sentence.split(' ')\n",
    "    ids = []\n",
    "    for w in words:\n",
    "        if(w in vocab_to_int):\n",
    "            ids.append(vocab_to_int[w])\n",
    "        else:\n",
    "            ids.append(vocab_to_int['<UNK>'])\n",
    "    return ids\n",
    "\n",
    "\n",
    "\"\"\"\n",
    "DON'T MODIFY ANYTHING IN THIS CELL THAT IS BELOW THIS LINE\n",
    "\"\"\"\n",
    "tests.test_sentence_to_seq(sentence_to_seq)"
   ]
  },
  {
   "cell_type": "markdown",
   "metadata": {
    "deletable": true,
    "editable": true
   },
   "source": [
    "## 翻译\n",
    "\n",
    "将 `translate_sentence` 从英语翻译成法语。"
   ]
  },
  {
   "cell_type": "code",
   "execution_count": 44,
   "metadata": {
    "collapsed": false,
    "deletable": true,
    "editable": true
   },
   "outputs": [
    {
     "name": "stdout",
     "output_type": "stream",
     "text": [
      "Input\n",
      "  Word Ids:      [160, 143, 76, 35, 123, 206, 211]\n",
      "  English Words: ['he', 'saw', 'a', 'old', 'yellow', 'truck', '.']\n",
      "\n",
      "Prediction\n",
      "  Word Ids:      [331, 300, 193, 329, 157, 0, 0, 0, 0, 0, 0, 0, 0, 0, 0, 0, 0, 0]\n",
      "  French Words: ['il', 'a', 'vu', 'une', 'vieille', '<PAD>', '<PAD>', '<PAD>', '<PAD>', '<PAD>', '<PAD>', '<PAD>', '<PAD>', '<PAD>', '<PAD>', '<PAD>', '<PAD>', '<PAD>']\n"
     ]
    }
   ],
   "source": [
    "translate_sentence = 'he saw a old yellow truck .'\n",
    "\n",
    "\n",
    "\"\"\"\n",
    "DON'T MODIFY ANYTHING IN THIS CELL\n",
    "\"\"\"\n",
    "translate_sentence = sentence_to_seq(translate_sentence, source_vocab_to_int)\n",
    "\n",
    "loaded_graph = tf.Graph()\n",
    "with tf.Session(graph=loaded_graph) as sess:\n",
    "    # Load saved model\n",
    "    loader = tf.train.import_meta_graph(load_path + '.meta')\n",
    "    loader.restore(sess, load_path)\n",
    "\n",
    "    input_data = loaded_graph.get_tensor_by_name('input:0')\n",
    "    logits = loaded_graph.get_tensor_by_name('logits:0')\n",
    "    keep_prob = loaded_graph.get_tensor_by_name('keep_prob:0')\n",
    "\n",
    "    translate_logits = sess.run(logits, {input_data: [translate_sentence], keep_prob: 1.0})[0]\n",
    "\n",
    "print('Input')\n",
    "print('  Word Ids:      {}'.format([i for i in translate_sentence]))\n",
    "print('  English Words: {}'.format([source_int_to_vocab[i] for i in translate_sentence]))\n",
    "\n",
    "print('\\nPrediction')\n",
    "print('  Word Ids:      {}'.format([i for i in np.argmax(translate_logits, 1)]))\n",
    "print('  French Words: {}'.format([target_int_to_vocab[i] for i in np.argmax(translate_logits, 1)]))"
   ]
  },
  {
   "cell_type": "markdown",
   "metadata": {
    "deletable": true,
    "editable": true
   },
   "source": [
    "## 不完美的翻译\n",
    "\n",
    "你可能注意到了，某些句子的翻译质量比其他的要好。因为你使用的数据集只有 227 个英语单词，但实际生活中有数千个单词，只有使用这些单词的句子结果才会比较理想。对于此项目，不需要达到完美的翻译。但是，如果你想创建更好的翻译模型，则需要更好的数据。\n",
    "\n",
    "你可以使用 [WMT10 French-English corpus](http://www.statmt.org/wmt10/training-giga-fren.tar) 语料库训练模型。该数据集拥有更多的词汇，讨论的话题也更丰富。但是，训练时间要好多天的时间，所以确保你有 GPU 并且对于我们提供的数据集，你的神经网络性能很棒。提交此项目后，别忘了研究下 WMT10 语料库。\n",
    "\n",
    "\n",
    "## 提交项目\n",
    "\n",
    "提交项目时，确保先运行所有单元，然后再保存记事本。保存记事本文件为 “dlnd_language_translation.ipynb”，再通过菜单中的“文件” ->“下载为”将其另存为 HTML 格式。提交的项目文档中需包含“helper.py”和“problem_unittests.py”文件。\n"
   ]
  },
  {
   "cell_type": "code",
   "execution_count": null,
   "metadata": {
    "collapsed": true,
    "deletable": true,
    "editable": true
   },
   "outputs": [],
   "source": []
  },
  {
   "cell_type": "code",
   "execution_count": null,
   "metadata": {
    "collapsed": true,
    "deletable": true,
    "editable": true
   },
   "outputs": [],
   "source": []
  }
 ],
 "metadata": {
  "kernelspec": {
   "display_name": "Python 3",
   "language": "python",
   "name": "python3"
  },
  "language_info": {
   "codemirror_mode": {
    "name": "ipython",
    "version": 3
   },
   "file_extension": ".py",
   "mimetype": "text/x-python",
   "name": "python",
   "nbconvert_exporter": "python",
   "pygments_lexer": "ipython3",
   "version": "3.5.2"
  },
  "widgets": {
   "state": {},
   "version": "1.1.2"
  }
 },
 "nbformat": 4,
 "nbformat_minor": 0
}
